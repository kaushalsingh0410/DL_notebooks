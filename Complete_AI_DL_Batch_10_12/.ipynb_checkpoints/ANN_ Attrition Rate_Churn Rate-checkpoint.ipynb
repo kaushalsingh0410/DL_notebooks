{
 "cells": [
  {
   "cell_type": "code",
   "execution_count": 3,
   "id": "fdb69bd2",
   "metadata": {},
   "outputs": [
    {
     "name": "stdout",
     "output_type": "stream",
     "text": [
      "done\n"
     ]
    }
   ],
   "source": [
    "import pandas as pd\n",
    "from tensorflow.keras.layers import Dense\n",
    "from tensorflow.keras.models import Sequential\n",
    "import matplotlib.pyplot as plt\n",
    "import numpy as np\n",
    "print('done')"
   ]
  },
  {
   "cell_type": "code",
   "execution_count": 4,
   "id": "01838cfc",
   "metadata": {},
   "outputs": [],
   "source": [
    "import os"
   ]
  },
  {
   "cell_type": "code",
   "execution_count": 5,
   "id": "174b65b2",
   "metadata": {},
   "outputs": [
    {
     "data": {
      "text/plain": [
       "'C:\\\\Users\\\\Lenovo\\\\Complete_AI_DL_Batch_10_12'"
      ]
     },
     "execution_count": 5,
     "metadata": {},
     "output_type": "execute_result"
    }
   ],
   "source": [
    "os.getcwd()"
   ]
  },
  {
   "cell_type": "code",
   "execution_count": 6,
   "id": "44b1b8d2",
   "metadata": {},
   "outputs": [
    {
     "data": {
      "text/plain": [
       "['.ipynb_checkpoints',\n",
       " 'ANN_ Attrition Rate_Churn Rate.ipynb',\n",
       " 'class 8_Activation func.ipynb',\n",
       " 'Class_9_Loss Functions.ipynb',\n",
       " 'Day 4_DL.ipynb',\n",
       " 'Day 6_ 7_Activation Functions.ipynb',\n",
       " 'Day2.ipynb',\n",
       " 'day3.ipynb',\n",
       " 'Day4.ipynb',\n",
       " 'Day5.ipynb',\n",
       " 'gd_and_sgd.ipynb',\n",
       " 'Gradient_descent_from_scratch.ipynb',\n",
       " 'Optimizers.ipynb',\n",
       " 'student_scores.csv']"
      ]
     },
     "execution_count": 6,
     "metadata": {},
     "output_type": "execute_result"
    }
   ],
   "source": [
    "os.listdir(os.getcwd())"
   ]
  },
  {
   "cell_type": "code",
   "execution_count": 7,
   "id": "84f73572",
   "metadata": {},
   "outputs": [
    {
     "ename": "NotADirectoryError",
     "evalue": "[WinError 267] The directory name is invalid: 'C:\\\\Users\\\\Lenovo\\\\Downloads\\\\customer_churn_data.csv'",
     "output_type": "error",
     "traceback": [
      "\u001b[1;31m---------------------------------------------------------------------------\u001b[0m",
      "\u001b[1;31mNotADirectoryError\u001b[0m                        Traceback (most recent call last)",
      "Cell \u001b[1;32mIn[7], line 1\u001b[0m\n\u001b[1;32m----> 1\u001b[0m os\u001b[38;5;241m.\u001b[39mlistdir(os\u001b[38;5;241m.\u001b[39mchdir(\u001b[38;5;124m'\u001b[39m\u001b[38;5;124mC:\u001b[39m\u001b[38;5;130;01m\\\\\u001b[39;00m\u001b[38;5;124mUsers\u001b[39m\u001b[38;5;130;01m\\\\\u001b[39;00m\u001b[38;5;124mLenovo\u001b[39m\u001b[38;5;130;01m\\\\\u001b[39;00m\u001b[38;5;124mDownloads\u001b[39m\u001b[38;5;130;01m\\\\\u001b[39;00m\u001b[38;5;124mcustomer_churn_data.csv\u001b[39m\u001b[38;5;124m'\u001b[39m))\n",
      "\u001b[1;31mNotADirectoryError\u001b[0m: [WinError 267] The directory name is invalid: 'C:\\\\Users\\\\Lenovo\\\\Downloads\\\\customer_churn_data.csv'"
     ]
    }
   ],
   "source": [
    "os.listdir(os.chdir('C:\\\\Users\\\\Lenovo\\\\Downloads\\\\customer_churn_data.csv'))"
   ]
  },
  {
   "cell_type": "code",
   "execution_count": 13,
   "id": "27314f3a",
   "metadata": {},
   "outputs": [
    {
     "data": {
      "text/plain": [
       "(7043, 21)"
      ]
     },
     "execution_count": 13,
     "metadata": {},
     "output_type": "execute_result"
    }
   ],
   "source": [
    "path = 'C:\\\\Users\\\\Lenovo\\\\Downloads\\\\customer_churn_data.csv'\n",
    "\n",
    "df = pd.read_csv(path)\n",
    "df.shape"
   ]
  },
  {
   "cell_type": "markdown",
   "id": "7b5ac81e",
   "metadata": {},
   "source": [
    "# EDA, Feature Engineering, Feature Scaling"
   ]
  },
  {
   "cell_type": "code",
   "execution_count": 14,
   "id": "3302aa67",
   "metadata": {},
   "outputs": [
    {
     "name": "stdout",
     "output_type": "stream",
     "text": [
      "<class 'pandas.core.frame.DataFrame'>\n",
      "RangeIndex: 7043 entries, 0 to 7042\n",
      "Data columns (total 21 columns):\n",
      " #   Column            Non-Null Count  Dtype  \n",
      "---  ------            --------------  -----  \n",
      " 0   customerID        7043 non-null   object \n",
      " 1   gender            7043 non-null   object \n",
      " 2   SeniorCitizen     7043 non-null   int64  \n",
      " 3   Partner           7043 non-null   object \n",
      " 4   Dependents        7043 non-null   object \n",
      " 5   tenure            7043 non-null   int64  \n",
      " 6   PhoneService      7043 non-null   object \n",
      " 7   MultipleLines     7043 non-null   object \n",
      " 8   InternetService   7043 non-null   object \n",
      " 9   OnlineSecurity    7043 non-null   object \n",
      " 10  OnlineBackup      7043 non-null   object \n",
      " 11  DeviceProtection  7043 non-null   object \n",
      " 12  TechSupport       7043 non-null   object \n",
      " 13  StreamingTV       7043 non-null   object \n",
      " 14  StreamingMovies   7043 non-null   object \n",
      " 15  Contract          7043 non-null   object \n",
      " 16  PaperlessBilling  7043 non-null   object \n",
      " 17  PaymentMethod     7043 non-null   object \n",
      " 18  MonthlyCharges    7043 non-null   float64\n",
      " 19  TotalCharges      7043 non-null   object \n",
      " 20  Churn             7043 non-null   object \n",
      "dtypes: float64(1), int64(2), object(18)\n",
      "memory usage: 1.1+ MB\n"
     ]
    }
   ],
   "source": [
    "df.info()"
   ]
  },
  {
   "cell_type": "code",
   "execution_count": 15,
   "id": "ed4c1834",
   "metadata": {},
   "outputs": [
    {
     "data": {
      "text/plain": [
       "Index(['customerID', 'gender', 'SeniorCitizen', 'Partner', 'Dependents',\n",
       "       'tenure', 'PhoneService', 'MultipleLines', 'InternetService',\n",
       "       'OnlineSecurity', 'OnlineBackup', 'DeviceProtection', 'TechSupport',\n",
       "       'StreamingTV', 'StreamingMovies', 'Contract', 'PaperlessBilling',\n",
       "       'PaymentMethod', 'MonthlyCharges', 'TotalCharges', 'Churn'],\n",
       "      dtype='object')"
      ]
     },
     "execution_count": 15,
     "metadata": {},
     "output_type": "execute_result"
    }
   ],
   "source": [
    "df.columns"
   ]
  },
  {
   "cell_type": "code",
   "execution_count": 16,
   "id": "fb69a3ff",
   "metadata": {},
   "outputs": [
    {
     "data": {
      "text/plain": [
       "(7043, 21)"
      ]
     },
     "execution_count": 16,
     "metadata": {},
     "output_type": "execute_result"
    }
   ],
   "source": [
    "df.shape"
   ]
  },
  {
   "cell_type": "code",
   "execution_count": 17,
   "id": "e50dbec6",
   "metadata": {},
   "outputs": [
    {
     "data": {
      "text/html": [
       "<div>\n",
       "<style scoped>\n",
       "    .dataframe tbody tr th:only-of-type {\n",
       "        vertical-align: middle;\n",
       "    }\n",
       "\n",
       "    .dataframe tbody tr th {\n",
       "        vertical-align: top;\n",
       "    }\n",
       "\n",
       "    .dataframe thead th {\n",
       "        text-align: right;\n",
       "    }\n",
       "</style>\n",
       "<table border=\"1\" class=\"dataframe\">\n",
       "  <thead>\n",
       "    <tr style=\"text-align: right;\">\n",
       "      <th></th>\n",
       "      <th>customerID</th>\n",
       "      <th>gender</th>\n",
       "      <th>SeniorCitizen</th>\n",
       "      <th>Partner</th>\n",
       "      <th>Dependents</th>\n",
       "      <th>tenure</th>\n",
       "      <th>PhoneService</th>\n",
       "      <th>MultipleLines</th>\n",
       "      <th>InternetService</th>\n",
       "      <th>OnlineSecurity</th>\n",
       "      <th>...</th>\n",
       "      <th>DeviceProtection</th>\n",
       "      <th>TechSupport</th>\n",
       "      <th>StreamingTV</th>\n",
       "      <th>StreamingMovies</th>\n",
       "      <th>Contract</th>\n",
       "      <th>PaperlessBilling</th>\n",
       "      <th>PaymentMethod</th>\n",
       "      <th>MonthlyCharges</th>\n",
       "      <th>TotalCharges</th>\n",
       "      <th>Churn</th>\n",
       "    </tr>\n",
       "  </thead>\n",
       "  <tbody>\n",
       "    <tr>\n",
       "      <th>2525</th>\n",
       "      <td>3133-PZNSR</td>\n",
       "      <td>Male</td>\n",
       "      <td>0</td>\n",
       "      <td>Yes</td>\n",
       "      <td>Yes</td>\n",
       "      <td>72</td>\n",
       "      <td>Yes</td>\n",
       "      <td>Yes</td>\n",
       "      <td>Fiber optic</td>\n",
       "      <td>Yes</td>\n",
       "      <td>...</td>\n",
       "      <td>No</td>\n",
       "      <td>Yes</td>\n",
       "      <td>No</td>\n",
       "      <td>Yes</td>\n",
       "      <td>Two year</td>\n",
       "      <td>Yes</td>\n",
       "      <td>Credit card (automatic)</td>\n",
       "      <td>97.75</td>\n",
       "      <td>6991.6</td>\n",
       "      <td>No</td>\n",
       "    </tr>\n",
       "  </tbody>\n",
       "</table>\n",
       "<p>1 rows × 21 columns</p>\n",
       "</div>"
      ],
      "text/plain": [
       "      customerID gender  SeniorCitizen Partner Dependents  tenure  \\\n",
       "2525  3133-PZNSR   Male              0     Yes        Yes      72   \n",
       "\n",
       "     PhoneService MultipleLines InternetService OnlineSecurity  ...  \\\n",
       "2525          Yes           Yes     Fiber optic            Yes  ...   \n",
       "\n",
       "     DeviceProtection TechSupport StreamingTV StreamingMovies  Contract  \\\n",
       "2525               No         Yes          No             Yes  Two year   \n",
       "\n",
       "     PaperlessBilling            PaymentMethod MonthlyCharges  TotalCharges  \\\n",
       "2525              Yes  Credit card (automatic)          97.75        6991.6   \n",
       "\n",
       "     Churn  \n",
       "2525    No  \n",
       "\n",
       "[1 rows x 21 columns]"
      ]
     },
     "execution_count": 17,
     "metadata": {},
     "output_type": "execute_result"
    }
   ],
   "source": [
    "df.sample()"
   ]
  },
  {
   "cell_type": "code",
   "execution_count": 18,
   "id": "8e0b02f3",
   "metadata": {},
   "outputs": [
    {
     "data": {
      "text/plain": [
       "customerID           object\n",
       "gender               object\n",
       "SeniorCitizen         int64\n",
       "Partner              object\n",
       "Dependents           object\n",
       "tenure                int64\n",
       "PhoneService         object\n",
       "MultipleLines        object\n",
       "InternetService      object\n",
       "OnlineSecurity       object\n",
       "OnlineBackup         object\n",
       "DeviceProtection     object\n",
       "TechSupport          object\n",
       "StreamingTV          object\n",
       "StreamingMovies      object\n",
       "Contract             object\n",
       "PaperlessBilling     object\n",
       "PaymentMethod        object\n",
       "MonthlyCharges      float64\n",
       "TotalCharges         object\n",
       "Churn                object\n",
       "dtype: object"
      ]
     },
     "execution_count": 18,
     "metadata": {},
     "output_type": "execute_result"
    }
   ],
   "source": [
    "df.dtypes"
   ]
  },
  {
   "cell_type": "code",
   "execution_count": 19,
   "id": "533bee4c",
   "metadata": {},
   "outputs": [],
   "source": [
    "df1 = df.drop('customerID',axis=1) # columns"
   ]
  },
  {
   "cell_type": "code",
   "execution_count": 20,
   "id": "faa080a0",
   "metadata": {},
   "outputs": [
    {
     "data": {
      "text/plain": [
       "gender              0.0\n",
       "SeniorCitizen       0.0\n",
       "Partner             0.0\n",
       "Dependents          0.0\n",
       "tenure              0.0\n",
       "PhoneService        0.0\n",
       "MultipleLines       0.0\n",
       "InternetService     0.0\n",
       "OnlineSecurity      0.0\n",
       "OnlineBackup        0.0\n",
       "DeviceProtection    0.0\n",
       "TechSupport         0.0\n",
       "StreamingTV         0.0\n",
       "StreamingMovies     0.0\n",
       "Contract            0.0\n",
       "PaperlessBilling    0.0\n",
       "PaymentMethod       0.0\n",
       "MonthlyCharges      0.0\n",
       "TotalCharges        0.0\n",
       "Churn               0.0\n",
       "dtype: float64"
      ]
     },
     "execution_count": 20,
     "metadata": {},
     "output_type": "execute_result"
    }
   ],
   "source": [
    "(df1.isna().sum()/len(df1))*100"
   ]
  },
  {
   "cell_type": "code",
   "execution_count": 21,
   "id": "e23d3393",
   "metadata": {},
   "outputs": [
    {
     "data": {
      "text/plain": [
       "gender               object\n",
       "SeniorCitizen         int64\n",
       "Partner              object\n",
       "Dependents           object\n",
       "tenure                int64\n",
       "PhoneService         object\n",
       "MultipleLines        object\n",
       "InternetService      object\n",
       "OnlineSecurity       object\n",
       "OnlineBackup         object\n",
       "DeviceProtection     object\n",
       "TechSupport          object\n",
       "StreamingTV          object\n",
       "StreamingMovies      object\n",
       "Contract             object\n",
       "PaperlessBilling     object\n",
       "PaymentMethod        object\n",
       "MonthlyCharges      float64\n",
       "TotalCharges         object\n",
       "Churn                object\n",
       "dtype: object"
      ]
     },
     "execution_count": 21,
     "metadata": {},
     "output_type": "execute_result"
    }
   ],
   "source": [
    "df1.dtypes"
   ]
  },
  {
   "cell_type": "code",
   "execution_count": 22,
   "id": "958d7c84",
   "metadata": {},
   "outputs": [
    {
     "data": {
      "text/plain": [
       "array(['Female', 'Male'], dtype=object)"
      ]
     },
     "execution_count": 22,
     "metadata": {},
     "output_type": "execute_result"
    }
   ],
   "source": [
    "df1['gender'].unique()"
   ]
  },
  {
   "cell_type": "code",
   "execution_count": 23,
   "id": "c21d98cf",
   "metadata": {},
   "outputs": [
    {
     "data": {
      "text/plain": [
       "array(['Yes', 'No'], dtype=object)"
      ]
     },
     "execution_count": 23,
     "metadata": {},
     "output_type": "execute_result"
    }
   ],
   "source": [
    "df1['Partner'].unique()"
   ]
  },
  {
   "cell_type": "code",
   "execution_count": 24,
   "id": "2644e00b",
   "metadata": {},
   "outputs": [
    {
     "name": "stdout",
     "output_type": "stream",
     "text": [
      "gender:->> ['Female' 'Male']\n",
      "Partner:->> ['Yes' 'No']\n",
      "Dependents:->> ['No' 'Yes']\n",
      "PhoneService:->> ['No' 'Yes']\n",
      "MultipleLines:->> ['No phone service' 'No' 'Yes']\n",
      "InternetService:->> ['DSL' 'Fiber optic' 'No']\n",
      "OnlineSecurity:->> ['No' 'Yes' 'No internet service']\n",
      "OnlineBackup:->> ['Yes' 'No' 'No internet service']\n",
      "DeviceProtection:->> ['No' 'Yes' 'No internet service']\n",
      "TechSupport:->> ['No' 'Yes' 'No internet service']\n",
      "StreamingTV:->> ['No' 'Yes' 'No internet service']\n",
      "StreamingMovies:->> ['No' 'Yes' 'No internet service']\n",
      "Contract:->> ['Month-to-month' 'One year' 'Two year']\n",
      "PaperlessBilling:->> ['Yes' 'No']\n",
      "PaymentMethod:->> ['Electronic check' 'Mailed check' 'Bank transfer (automatic)'\n",
      " 'Credit card (automatic)']\n",
      "TotalCharges:->> ['29.85' '1889.5' '108.15' ... '346.45' '306.6' '6844.5']\n",
      "Churn:->> ['No' 'Yes']\n"
     ]
    }
   ],
   "source": [
    "for i in df1:\n",
    "    if df1[i].dtypes == 'object':\n",
    "#         print(df1[i].dtypes)\n",
    "        print(f\"{i}:->> {df[i].unique()}\")"
   ]
  },
  {
   "cell_type": "code",
   "execution_count": 25,
   "id": "ab3b8122",
   "metadata": {},
   "outputs": [],
   "source": [
    "import warnings\n",
    "warnings.filterwarnings('ignore')"
   ]
  },
  {
   "cell_type": "code",
   "execution_count": 26,
   "id": "10573c45",
   "metadata": {},
   "outputs": [],
   "source": [
    "df2 = df1.replace({'No phone service':'No','No internet service':'No','No':0,'Yes':1})"
   ]
  },
  {
   "cell_type": "code",
   "execution_count": 27,
   "id": "5a6aa815",
   "metadata": {},
   "outputs": [],
   "source": [
    "df3 = df2.replace({'No':0})"
   ]
  },
  {
   "cell_type": "code",
   "execution_count": 28,
   "id": "e1c6b094",
   "metadata": {},
   "outputs": [
    {
     "name": "stdout",
     "output_type": "stream",
     "text": [
      "gender:->> ['Female' 'Male']\n",
      "SeniorCitizen:->> [0 1]\n",
      "Partner:->> [1 0]\n",
      "Dependents:->> [0 1]\n",
      "tenure:->> [ 1 34  2 45  8 22 10 28 62 13 16 58 49 25 69 52 71 21 12 30 47 72 17 27\n",
      "  5 46 11 70 63 43 15 60 18 66  9  3 31 50 64 56  7 42 35 48 29 65 38 68\n",
      " 32 55 37 36 41  6  4 33 67 23 57 61 14 20 53 40 59 24 44 19 54 51 26  0\n",
      " 39]\n",
      "PhoneService:->> [0 1]\n",
      "MultipleLines:->> [0 1]\n",
      "InternetService:->> ['DSL' 'Fiber optic' 0]\n",
      "OnlineSecurity:->> [0 1]\n",
      "OnlineBackup:->> [1 0]\n",
      "DeviceProtection:->> [0 1]\n",
      "TechSupport:->> [0 1]\n",
      "StreamingTV:->> [0 1]\n",
      "StreamingMovies:->> [0 1]\n",
      "Contract:->> ['Month-to-month' 'One year' 'Two year']\n",
      "PaperlessBilling:->> [1 0]\n",
      "PaymentMethod:->> ['Electronic check' 'Mailed check' 'Bank transfer (automatic)'\n",
      " 'Credit card (automatic)']\n",
      "MonthlyCharges:->> [29.85 56.95 53.85 ... 63.1  44.2  78.7 ]\n",
      "TotalCharges:->> ['29.85' '1889.5' '108.15' ... '346.45' '306.6' '6844.5']\n",
      "Churn:->> [0 1]\n"
     ]
    }
   ],
   "source": [
    "for i in df3:\n",
    "    \n",
    "#       print(df1[i].dtypes)\n",
    "        print(f\"{i}:->> {df3[i].unique()}\")"
   ]
  },
  {
   "cell_type": "code",
   "execution_count": 29,
   "id": "be3c437f",
   "metadata": {},
   "outputs": [
    {
     "data": {
      "text/plain": [
       "array(['DSL', 'Fiber optic', 'No'], dtype=object)"
      ]
     },
     "execution_count": 29,
     "metadata": {},
     "output_type": "execute_result"
    }
   ],
   "source": [
    "df1['InternetService'].unique()"
   ]
  },
  {
   "cell_type": "code",
   "execution_count": 30,
   "id": "23f29e43",
   "metadata": {},
   "outputs": [],
   "source": [
    "df3['InternetService'] = df3['InternetService'].replace(0,'No')"
   ]
  },
  {
   "cell_type": "code",
   "execution_count": 31,
   "id": "9091d122",
   "metadata": {},
   "outputs": [
    {
     "data": {
      "text/plain": [
       "array(['DSL', 'Fiber optic', 'No'], dtype=object)"
      ]
     },
     "execution_count": 31,
     "metadata": {},
     "output_type": "execute_result"
    }
   ],
   "source": [
    "df3['InternetService'].unique()"
   ]
  },
  {
   "cell_type": "code",
   "execution_count": 32,
   "id": "30a32ca9",
   "metadata": {},
   "outputs": [],
   "source": [
    "df4 = pd.get_dummies(data=df3,columns=['InternetService','Contract','PaymentMethod'],dtype=int,drop_first=True)"
   ]
  },
  {
   "cell_type": "code",
   "execution_count": 33,
   "id": "efe8b9fe",
   "metadata": {},
   "outputs": [
    {
     "data": {
      "text/html": [
       "<div>\n",
       "<style scoped>\n",
       "    .dataframe tbody tr th:only-of-type {\n",
       "        vertical-align: middle;\n",
       "    }\n",
       "\n",
       "    .dataframe tbody tr th {\n",
       "        vertical-align: top;\n",
       "    }\n",
       "\n",
       "    .dataframe thead th {\n",
       "        text-align: right;\n",
       "    }\n",
       "</style>\n",
       "<table border=\"1\" class=\"dataframe\">\n",
       "  <thead>\n",
       "    <tr style=\"text-align: right;\">\n",
       "      <th></th>\n",
       "      <th>gender</th>\n",
       "      <th>SeniorCitizen</th>\n",
       "      <th>Partner</th>\n",
       "      <th>Dependents</th>\n",
       "      <th>tenure</th>\n",
       "      <th>PhoneService</th>\n",
       "      <th>MultipleLines</th>\n",
       "      <th>OnlineSecurity</th>\n",
       "      <th>OnlineBackup</th>\n",
       "      <th>DeviceProtection</th>\n",
       "      <th>...</th>\n",
       "      <th>MonthlyCharges</th>\n",
       "      <th>TotalCharges</th>\n",
       "      <th>Churn</th>\n",
       "      <th>InternetService_Fiber optic</th>\n",
       "      <th>InternetService_No</th>\n",
       "      <th>Contract_One year</th>\n",
       "      <th>Contract_Two year</th>\n",
       "      <th>PaymentMethod_Credit card (automatic)</th>\n",
       "      <th>PaymentMethod_Electronic check</th>\n",
       "      <th>PaymentMethod_Mailed check</th>\n",
       "    </tr>\n",
       "  </thead>\n",
       "  <tbody>\n",
       "    <tr>\n",
       "      <th>6771</th>\n",
       "      <td>Male</td>\n",
       "      <td>0</td>\n",
       "      <td>1</td>\n",
       "      <td>1</td>\n",
       "      <td>31</td>\n",
       "      <td>1</td>\n",
       "      <td>0</td>\n",
       "      <td>0</td>\n",
       "      <td>0</td>\n",
       "      <td>0</td>\n",
       "      <td>...</td>\n",
       "      <td>20.65</td>\n",
       "      <td>702.05</td>\n",
       "      <td>0</td>\n",
       "      <td>0</td>\n",
       "      <td>1</td>\n",
       "      <td>0</td>\n",
       "      <td>0</td>\n",
       "      <td>0</td>\n",
       "      <td>1</td>\n",
       "      <td>0</td>\n",
       "    </tr>\n",
       "  </tbody>\n",
       "</table>\n",
       "<p>1 rows × 24 columns</p>\n",
       "</div>"
      ],
      "text/plain": [
       "     gender  SeniorCitizen  Partner  Dependents  tenure  PhoneService  \\\n",
       "6771   Male              0        1           1      31             1   \n",
       "\n",
       "      MultipleLines  OnlineSecurity  OnlineBackup  DeviceProtection  ...  \\\n",
       "6771              0               0             0                 0  ...   \n",
       "\n",
       "      MonthlyCharges  TotalCharges  Churn  InternetService_Fiber optic  \\\n",
       "6771           20.65        702.05      0                            0   \n",
       "\n",
       "      InternetService_No Contract_One year  Contract_Two year  \\\n",
       "6771                   1                 0                  0   \n",
       "\n",
       "      PaymentMethod_Credit card (automatic)  PaymentMethod_Electronic check  \\\n",
       "6771                                      0                               1   \n",
       "\n",
       "      PaymentMethod_Mailed check  \n",
       "6771                           0  \n",
       "\n",
       "[1 rows x 24 columns]"
      ]
     },
     "execution_count": 33,
     "metadata": {},
     "output_type": "execute_result"
    }
   ],
   "source": [
    "df4.sample()"
   ]
  },
  {
   "cell_type": "code",
   "execution_count": 34,
   "id": "1154edb1",
   "metadata": {},
   "outputs": [],
   "source": [
    "df5 = df4.replace({'Female':0,'Male':1})"
   ]
  },
  {
   "cell_type": "code",
   "execution_count": 35,
   "id": "f0fab15a",
   "metadata": {},
   "outputs": [
    {
     "name": "stdout",
     "output_type": "stream",
     "text": [
      "gender:->> [0 1]\n",
      "SeniorCitizen:->> [0 1]\n",
      "Partner:->> [1 0]\n",
      "Dependents:->> [0 1]\n",
      "tenure:->> [ 1 34  2 45  8 22 10 28 62 13 16 58 49 25 69 52 71 21 12 30 47 72 17 27\n",
      "  5 46 11 70 63 43 15 60 18 66  9  3 31 50 64 56  7 42 35 48 29 65 38 68\n",
      " 32 55 37 36 41  6  4 33 67 23 57 61 14 20 53 40 59 24 44 19 54 51 26  0\n",
      " 39]\n",
      "PhoneService:->> [0 1]\n",
      "MultipleLines:->> [0 1]\n",
      "OnlineSecurity:->> [0 1]\n",
      "OnlineBackup:->> [1 0]\n",
      "DeviceProtection:->> [0 1]\n",
      "TechSupport:->> [0 1]\n",
      "StreamingTV:->> [0 1]\n",
      "StreamingMovies:->> [0 1]\n",
      "PaperlessBilling:->> [1 0]\n",
      "MonthlyCharges:->> [29.85 56.95 53.85 ... 63.1  44.2  78.7 ]\n",
      "TotalCharges:->> ['29.85' '1889.5' '108.15' ... '346.45' '306.6' '6844.5']\n",
      "Churn:->> [0 1]\n",
      "InternetService_Fiber optic:->> [0 1]\n",
      "InternetService_No:->> [0 1]\n",
      "Contract_One year:->> [0 1]\n",
      "Contract_Two year:->> [0 1]\n",
      "PaymentMethod_Credit card (automatic):->> [0 1]\n",
      "PaymentMethod_Electronic check:->> [1 0]\n",
      "PaymentMethod_Mailed check:->> [0 1]\n"
     ]
    }
   ],
   "source": [
    "for i in df5:\n",
    "    print(f\"{i}:->> {df5[i].unique()}\")"
   ]
  },
  {
   "cell_type": "code",
   "execution_count": 36,
   "id": "37d11dbf",
   "metadata": {},
   "outputs": [],
   "source": [
    "df5['TotalCharges']  = df5['TotalCharges'].apply(lambda x: 0 if x == ' ' else float(x))"
   ]
  },
  {
   "cell_type": "code",
   "execution_count": 37,
   "id": "3a3a9562",
   "metadata": {},
   "outputs": [
    {
     "data": {
      "text/plain": [
       "gender                                     int64\n",
       "SeniorCitizen                              int64\n",
       "Partner                                    int64\n",
       "Dependents                                 int64\n",
       "tenure                                     int64\n",
       "PhoneService                               int64\n",
       "MultipleLines                              int64\n",
       "OnlineSecurity                             int64\n",
       "OnlineBackup                               int64\n",
       "DeviceProtection                           int64\n",
       "TechSupport                                int64\n",
       "StreamingTV                                int64\n",
       "StreamingMovies                            int64\n",
       "PaperlessBilling                           int64\n",
       "MonthlyCharges                           float64\n",
       "TotalCharges                             float64\n",
       "Churn                                      int64\n",
       "InternetService_Fiber optic                int32\n",
       "InternetService_No                         int32\n",
       "Contract_One year                          int32\n",
       "Contract_Two year                          int32\n",
       "PaymentMethod_Credit card (automatic)      int32\n",
       "PaymentMethod_Electronic check             int32\n",
       "PaymentMethod_Mailed check                 int32\n",
       "dtype: object"
      ]
     },
     "execution_count": 37,
     "metadata": {},
     "output_type": "execute_result"
    }
   ],
   "source": [
    "df5.dtypes"
   ]
  },
  {
   "cell_type": "code",
   "execution_count": 38,
   "id": "25037f76",
   "metadata": {},
   "outputs": [],
   "source": [
    "# feature scaling"
   ]
  },
  {
   "cell_type": "code",
   "execution_count": 39,
   "id": "f639c0d9",
   "metadata": {},
   "outputs": [
    {
     "data": {
      "text/html": [
       "<div>\n",
       "<style scoped>\n",
       "    .dataframe tbody tr th:only-of-type {\n",
       "        vertical-align: middle;\n",
       "    }\n",
       "\n",
       "    .dataframe tbody tr th {\n",
       "        vertical-align: top;\n",
       "    }\n",
       "\n",
       "    .dataframe thead th {\n",
       "        text-align: right;\n",
       "    }\n",
       "</style>\n",
       "<table border=\"1\" class=\"dataframe\">\n",
       "  <thead>\n",
       "    <tr style=\"text-align: right;\">\n",
       "      <th></th>\n",
       "      <th>gender</th>\n",
       "      <th>SeniorCitizen</th>\n",
       "      <th>Partner</th>\n",
       "      <th>Dependents</th>\n",
       "      <th>tenure</th>\n",
       "      <th>PhoneService</th>\n",
       "      <th>MultipleLines</th>\n",
       "      <th>OnlineSecurity</th>\n",
       "      <th>OnlineBackup</th>\n",
       "      <th>DeviceProtection</th>\n",
       "      <th>...</th>\n",
       "      <th>MonthlyCharges</th>\n",
       "      <th>TotalCharges</th>\n",
       "      <th>Churn</th>\n",
       "      <th>InternetService_Fiber optic</th>\n",
       "      <th>InternetService_No</th>\n",
       "      <th>Contract_One year</th>\n",
       "      <th>Contract_Two year</th>\n",
       "      <th>PaymentMethod_Credit card (automatic)</th>\n",
       "      <th>PaymentMethod_Electronic check</th>\n",
       "      <th>PaymentMethod_Mailed check</th>\n",
       "    </tr>\n",
       "  </thead>\n",
       "  <tbody>\n",
       "    <tr>\n",
       "      <th>count</th>\n",
       "      <td>7043.000000</td>\n",
       "      <td>7043.000000</td>\n",
       "      <td>7043.000000</td>\n",
       "      <td>7043.000000</td>\n",
       "      <td>7043.000000</td>\n",
       "      <td>7043.000000</td>\n",
       "      <td>7043.000000</td>\n",
       "      <td>7043.000000</td>\n",
       "      <td>7043.000000</td>\n",
       "      <td>7043.000000</td>\n",
       "      <td>...</td>\n",
       "      <td>7043.000000</td>\n",
       "      <td>7043.000000</td>\n",
       "      <td>7043.000000</td>\n",
       "      <td>7043.000000</td>\n",
       "      <td>7043.000000</td>\n",
       "      <td>7043.000000</td>\n",
       "      <td>7043.000000</td>\n",
       "      <td>7043.000000</td>\n",
       "      <td>7043.000000</td>\n",
       "      <td>7043.000000</td>\n",
       "    </tr>\n",
       "    <tr>\n",
       "      <th>mean</th>\n",
       "      <td>0.504756</td>\n",
       "      <td>0.162147</td>\n",
       "      <td>0.483033</td>\n",
       "      <td>0.299588</td>\n",
       "      <td>32.371149</td>\n",
       "      <td>0.903166</td>\n",
       "      <td>0.421837</td>\n",
       "      <td>0.286668</td>\n",
       "      <td>0.344881</td>\n",
       "      <td>0.343888</td>\n",
       "      <td>...</td>\n",
       "      <td>64.761692</td>\n",
       "      <td>2279.734304</td>\n",
       "      <td>0.265370</td>\n",
       "      <td>0.439585</td>\n",
       "      <td>0.216669</td>\n",
       "      <td>0.209144</td>\n",
       "      <td>0.240664</td>\n",
       "      <td>0.216101</td>\n",
       "      <td>0.335794</td>\n",
       "      <td>0.228880</td>\n",
       "    </tr>\n",
       "    <tr>\n",
       "      <th>std</th>\n",
       "      <td>0.500013</td>\n",
       "      <td>0.368612</td>\n",
       "      <td>0.499748</td>\n",
       "      <td>0.458110</td>\n",
       "      <td>24.559481</td>\n",
       "      <td>0.295752</td>\n",
       "      <td>0.493888</td>\n",
       "      <td>0.452237</td>\n",
       "      <td>0.475363</td>\n",
       "      <td>0.475038</td>\n",
       "      <td>...</td>\n",
       "      <td>30.090047</td>\n",
       "      <td>2266.794470</td>\n",
       "      <td>0.441561</td>\n",
       "      <td>0.496372</td>\n",
       "      <td>0.412004</td>\n",
       "      <td>0.406726</td>\n",
       "      <td>0.427517</td>\n",
       "      <td>0.411613</td>\n",
       "      <td>0.472301</td>\n",
       "      <td>0.420141</td>\n",
       "    </tr>\n",
       "    <tr>\n",
       "      <th>min</th>\n",
       "      <td>0.000000</td>\n",
       "      <td>0.000000</td>\n",
       "      <td>0.000000</td>\n",
       "      <td>0.000000</td>\n",
       "      <td>0.000000</td>\n",
       "      <td>0.000000</td>\n",
       "      <td>0.000000</td>\n",
       "      <td>0.000000</td>\n",
       "      <td>0.000000</td>\n",
       "      <td>0.000000</td>\n",
       "      <td>...</td>\n",
       "      <td>18.250000</td>\n",
       "      <td>0.000000</td>\n",
       "      <td>0.000000</td>\n",
       "      <td>0.000000</td>\n",
       "      <td>0.000000</td>\n",
       "      <td>0.000000</td>\n",
       "      <td>0.000000</td>\n",
       "      <td>0.000000</td>\n",
       "      <td>0.000000</td>\n",
       "      <td>0.000000</td>\n",
       "    </tr>\n",
       "    <tr>\n",
       "      <th>25%</th>\n",
       "      <td>0.000000</td>\n",
       "      <td>0.000000</td>\n",
       "      <td>0.000000</td>\n",
       "      <td>0.000000</td>\n",
       "      <td>9.000000</td>\n",
       "      <td>1.000000</td>\n",
       "      <td>0.000000</td>\n",
       "      <td>0.000000</td>\n",
       "      <td>0.000000</td>\n",
       "      <td>0.000000</td>\n",
       "      <td>...</td>\n",
       "      <td>35.500000</td>\n",
       "      <td>398.550000</td>\n",
       "      <td>0.000000</td>\n",
       "      <td>0.000000</td>\n",
       "      <td>0.000000</td>\n",
       "      <td>0.000000</td>\n",
       "      <td>0.000000</td>\n",
       "      <td>0.000000</td>\n",
       "      <td>0.000000</td>\n",
       "      <td>0.000000</td>\n",
       "    </tr>\n",
       "    <tr>\n",
       "      <th>50%</th>\n",
       "      <td>1.000000</td>\n",
       "      <td>0.000000</td>\n",
       "      <td>0.000000</td>\n",
       "      <td>0.000000</td>\n",
       "      <td>29.000000</td>\n",
       "      <td>1.000000</td>\n",
       "      <td>0.000000</td>\n",
       "      <td>0.000000</td>\n",
       "      <td>0.000000</td>\n",
       "      <td>0.000000</td>\n",
       "      <td>...</td>\n",
       "      <td>70.350000</td>\n",
       "      <td>1394.550000</td>\n",
       "      <td>0.000000</td>\n",
       "      <td>0.000000</td>\n",
       "      <td>0.000000</td>\n",
       "      <td>0.000000</td>\n",
       "      <td>0.000000</td>\n",
       "      <td>0.000000</td>\n",
       "      <td>0.000000</td>\n",
       "      <td>0.000000</td>\n",
       "    </tr>\n",
       "    <tr>\n",
       "      <th>75%</th>\n",
       "      <td>1.000000</td>\n",
       "      <td>0.000000</td>\n",
       "      <td>1.000000</td>\n",
       "      <td>1.000000</td>\n",
       "      <td>55.000000</td>\n",
       "      <td>1.000000</td>\n",
       "      <td>1.000000</td>\n",
       "      <td>1.000000</td>\n",
       "      <td>1.000000</td>\n",
       "      <td>1.000000</td>\n",
       "      <td>...</td>\n",
       "      <td>89.850000</td>\n",
       "      <td>3786.600000</td>\n",
       "      <td>1.000000</td>\n",
       "      <td>1.000000</td>\n",
       "      <td>0.000000</td>\n",
       "      <td>0.000000</td>\n",
       "      <td>0.000000</td>\n",
       "      <td>0.000000</td>\n",
       "      <td>1.000000</td>\n",
       "      <td>0.000000</td>\n",
       "    </tr>\n",
       "    <tr>\n",
       "      <th>max</th>\n",
       "      <td>1.000000</td>\n",
       "      <td>1.000000</td>\n",
       "      <td>1.000000</td>\n",
       "      <td>1.000000</td>\n",
       "      <td>72.000000</td>\n",
       "      <td>1.000000</td>\n",
       "      <td>1.000000</td>\n",
       "      <td>1.000000</td>\n",
       "      <td>1.000000</td>\n",
       "      <td>1.000000</td>\n",
       "      <td>...</td>\n",
       "      <td>118.750000</td>\n",
       "      <td>8684.800000</td>\n",
       "      <td>1.000000</td>\n",
       "      <td>1.000000</td>\n",
       "      <td>1.000000</td>\n",
       "      <td>1.000000</td>\n",
       "      <td>1.000000</td>\n",
       "      <td>1.000000</td>\n",
       "      <td>1.000000</td>\n",
       "      <td>1.000000</td>\n",
       "    </tr>\n",
       "  </tbody>\n",
       "</table>\n",
       "<p>8 rows × 24 columns</p>\n",
       "</div>"
      ],
      "text/plain": [
       "            gender  SeniorCitizen      Partner   Dependents       tenure  \\\n",
       "count  7043.000000    7043.000000  7043.000000  7043.000000  7043.000000   \n",
       "mean      0.504756       0.162147     0.483033     0.299588    32.371149   \n",
       "std       0.500013       0.368612     0.499748     0.458110    24.559481   \n",
       "min       0.000000       0.000000     0.000000     0.000000     0.000000   \n",
       "25%       0.000000       0.000000     0.000000     0.000000     9.000000   \n",
       "50%       1.000000       0.000000     0.000000     0.000000    29.000000   \n",
       "75%       1.000000       0.000000     1.000000     1.000000    55.000000   \n",
       "max       1.000000       1.000000     1.000000     1.000000    72.000000   \n",
       "\n",
       "       PhoneService  MultipleLines  OnlineSecurity  OnlineBackup  \\\n",
       "count   7043.000000    7043.000000     7043.000000   7043.000000   \n",
       "mean       0.903166       0.421837        0.286668      0.344881   \n",
       "std        0.295752       0.493888        0.452237      0.475363   \n",
       "min        0.000000       0.000000        0.000000      0.000000   \n",
       "25%        1.000000       0.000000        0.000000      0.000000   \n",
       "50%        1.000000       0.000000        0.000000      0.000000   \n",
       "75%        1.000000       1.000000        1.000000      1.000000   \n",
       "max        1.000000       1.000000        1.000000      1.000000   \n",
       "\n",
       "       DeviceProtection  ...  MonthlyCharges  TotalCharges        Churn  \\\n",
       "count       7043.000000  ...     7043.000000   7043.000000  7043.000000   \n",
       "mean           0.343888  ...       64.761692   2279.734304     0.265370   \n",
       "std            0.475038  ...       30.090047   2266.794470     0.441561   \n",
       "min            0.000000  ...       18.250000      0.000000     0.000000   \n",
       "25%            0.000000  ...       35.500000    398.550000     0.000000   \n",
       "50%            0.000000  ...       70.350000   1394.550000     0.000000   \n",
       "75%            1.000000  ...       89.850000   3786.600000     1.000000   \n",
       "max            1.000000  ...      118.750000   8684.800000     1.000000   \n",
       "\n",
       "       InternetService_Fiber optic  InternetService_No  Contract_One year  \\\n",
       "count                  7043.000000         7043.000000        7043.000000   \n",
       "mean                      0.439585            0.216669           0.209144   \n",
       "std                       0.496372            0.412004           0.406726   \n",
       "min                       0.000000            0.000000           0.000000   \n",
       "25%                       0.000000            0.000000           0.000000   \n",
       "50%                       0.000000            0.000000           0.000000   \n",
       "75%                       1.000000            0.000000           0.000000   \n",
       "max                       1.000000            1.000000           1.000000   \n",
       "\n",
       "       Contract_Two year  PaymentMethod_Credit card (automatic)  \\\n",
       "count        7043.000000                            7043.000000   \n",
       "mean            0.240664                               0.216101   \n",
       "std             0.427517                               0.411613   \n",
       "min             0.000000                               0.000000   \n",
       "25%             0.000000                               0.000000   \n",
       "50%             0.000000                               0.000000   \n",
       "75%             0.000000                               0.000000   \n",
       "max             1.000000                               1.000000   \n",
       "\n",
       "       PaymentMethod_Electronic check  PaymentMethod_Mailed check  \n",
       "count                     7043.000000                 7043.000000  \n",
       "mean                         0.335794                    0.228880  \n",
       "std                          0.472301                    0.420141  \n",
       "min                          0.000000                    0.000000  \n",
       "25%                          0.000000                    0.000000  \n",
       "50%                          0.000000                    0.000000  \n",
       "75%                          1.000000                    0.000000  \n",
       "max                          1.000000                    1.000000  \n",
       "\n",
       "[8 rows x 24 columns]"
      ]
     },
     "execution_count": 39,
     "metadata": {},
     "output_type": "execute_result"
    }
   ],
   "source": [
    "df5.describe()"
   ]
  },
  {
   "cell_type": "code",
   "execution_count": null,
   "id": "e309be64",
   "metadata": {},
   "outputs": [],
   "source": []
  },
  {
   "cell_type": "code",
   "execution_count": 40,
   "id": "8f513200",
   "metadata": {},
   "outputs": [],
   "source": [
    "import seaborn as sns"
   ]
  },
  {
   "cell_type": "code",
   "execution_count": 41,
   "id": "fd4f4afd",
   "metadata": {},
   "outputs": [
    {
     "data": {
      "text/plain": [
       "<Axes: xlabel='gender', ylabel='count'>"
      ]
     },
     "execution_count": 41,
     "metadata": {},
     "output_type": "execute_result"
    },
    {
     "data": {
      "image/png": "[encoded data removed]",
      "text/plain": [
       "<Figure size 640x480 with 1 Axes>"
      ]
     },
     "metadata": {},
     "output_type": "display_data"
    }
   ],
   "source": [
    "sns.countplot(data= df4, x = 'gender')"
   ]
  },
  {
   "cell_type": "code",
   "execution_count": 42,
   "id": "e84ddcf1",
   "metadata": {},
   "outputs": [
    {
     "data": {
      "text/plain": [
       "<pandas.core.groupby.generic.DataFrameGroupBy object at 0x00000286C83A9050>"
      ]
     },
     "execution_count": 42,
     "metadata": {},
     "output_type": "execute_result"
    }
   ],
   "source": [
    "df4.groupby(['gender','Churn'])"
   ]
  },
  {
   "cell_type": "code",
   "execution_count": 43,
   "id": "15dccf67",
   "metadata": {},
   "outputs": [
    {
     "data": {
      "image/png": "[encoded data removed]",
      "text/plain": [
       "<Figure size 640x480 with 1 Axes>"
      ]
     },
     "metadata": {},
     "output_type": "display_data"
    }
   ],
   "source": [
    "df4[df4['gender'] == 'Male']['Churn'].value_counts().plot(kind='bar')\n",
    "plt.show()"
   ]
  },
  {
   "cell_type": "code",
   "execution_count": 44,
   "id": "474906a0",
   "metadata": {},
   "outputs": [
    {
     "data": {
      "text/plain": [
       "Churn\n",
       "0    2625\n",
       "1     930\n",
       "Name: count, dtype: int64"
      ]
     },
     "execution_count": 44,
     "metadata": {},
     "output_type": "execute_result"
    }
   ],
   "source": [
    "df4[df4['gender'] == \"Male\"]['Churn'].value_counts()"
   ]
  },
  {
   "cell_type": "code",
   "execution_count": 45,
   "id": "1939af06",
   "metadata": {},
   "outputs": [
    {
     "data": {
      "text/plain": [
       "<Axes: xlabel='Churn'>"
      ]
     },
     "execution_count": 45,
     "metadata": {},
     "output_type": "execute_result"
    },
    {
     "data": {
      "image/png": "[encoded data removed]",
      "text/plain": [
       "<Figure size 640x480 with 1 Axes>"
      ]
     },
     "metadata": {},
     "output_type": "display_data"
    }
   ],
   "source": [
    "df4[df4['gender'] == 'Female']['Churn'].value_counts().plot(kind='bar')"
   ]
  },
  {
   "cell_type": "code",
   "execution_count": 46,
   "id": "12552e79",
   "metadata": {},
   "outputs": [
    {
     "data": {
      "text/plain": [
       "Churn\n",
       "0    2549\n",
       "1     939\n",
       "Name: count, dtype: int64"
      ]
     },
     "execution_count": 46,
     "metadata": {},
     "output_type": "execute_result"
    }
   ],
   "source": [
    "df4[df4['gender'] == 'Female']['Churn'].value_counts()"
   ]
  },
  {
   "cell_type": "code",
   "execution_count": 47,
   "id": "2deebefe",
   "metadata": {},
   "outputs": [
    {
     "data": {
      "text/plain": [
       "Churn\n",
       "0    2625\n",
       "1     930\n",
       "Name: count, dtype: int64"
      ]
     },
     "execution_count": 47,
     "metadata": {},
     "output_type": "execute_result"
    }
   ],
   "source": [
    "df4[df4['gender'] == 'Male']['Churn'].value_counts()"
   ]
  },
  {
   "cell_type": "code",
   "execution_count": 48,
   "id": "fa795a48",
   "metadata": {},
   "outputs": [],
   "source": [
    "customer_not_left = df5[df5['Churn'] == 0]['tenure']"
   ]
  },
  {
   "cell_type": "code",
   "execution_count": null,
   "id": "28931c0e",
   "metadata": {},
   "outputs": [],
   "source": []
  },
  {
   "cell_type": "code",
   "execution_count": 49,
   "id": "085e79d5",
   "metadata": {},
   "outputs": [],
   "source": [
    "customer_left = df5[df5['Churn'] == 1]['tenure']"
   ]
  },
  {
   "cell_type": "code",
   "execution_count": 50,
   "id": "384d7747",
   "metadata": {},
   "outputs": [
    {
     "data": {
      "image/png": "[encoded data removed]",
      "text/plain": [
       "<Figure size 640x480 with 1 Axes>"
      ]
     },
     "metadata": {},
     "output_type": "display_data"
    }
   ],
   "source": [
    "plt.hist([customer_not_left,customer_left],label=['Churn - No', 'Churn-yes'])\n",
    "plt.xlabel('Customer Tenure in Months')\n",
    "plt.ylabel('No of Customers')\n",
    "plt.legend()\n",
    "plt.show()"
   ]
  },
  {
   "cell_type": "code",
   "execution_count": null,
   "id": "fd6d6ec4",
   "metadata": {},
   "outputs": [],
   "source": []
  },
  {
   "cell_type": "code",
   "execution_count": 51,
   "id": "afdfb9ee",
   "metadata": {},
   "outputs": [],
   "source": [
    "from sklearn.preprocessing import MinMaxScaler"
   ]
  },
  {
   "cell_type": "code",
   "execution_count": 52,
   "id": "ba4ae1f8",
   "metadata": {},
   "outputs": [],
   "source": [
    "min_max = MinMaxScaler()"
   ]
  },
  {
   "cell_type": "code",
   "execution_count": 53,
   "id": "872d8653",
   "metadata": {},
   "outputs": [
    {
     "data": {
      "text/plain": [
       "0         29.85\n",
       "1       1889.50\n",
       "2        108.15\n",
       "3       1840.75\n",
       "4        151.65\n",
       "         ...   \n",
       "7038    1990.50\n",
       "7039    7362.90\n",
       "7040     346.45\n",
       "7041     306.60\n",
       "7042    6844.50\n",
       "Name: TotalCharges, Length: 7043, dtype: float64"
      ]
     },
     "execution_count": 53,
     "metadata": {},
     "output_type": "execute_result"
    }
   ],
   "source": [
    "df5['TotalCharges']"
   ]
  },
  {
   "cell_type": "code",
   "execution_count": 54,
   "id": "9fc051d1",
   "metadata": {},
   "outputs": [],
   "source": [
    "df5[['tenure','MonthlyCharges','TotalCharges']] = min_max.fit_transform(df5[['tenure','MonthlyCharges','TotalCharges']])"
   ]
  },
  {
   "cell_type": "code",
   "execution_count": 55,
   "id": "80b23fc4",
   "metadata": {
    "scrolled": true
   },
   "outputs": [
    {
     "data": {
      "text/html": [
       "<div>\n",
       "<style scoped>\n",
       "    .dataframe tbody tr th:only-of-type {\n",
       "        vertical-align: middle;\n",
       "    }\n",
       "\n",
       "    .dataframe tbody tr th {\n",
       "        vertical-align: top;\n",
       "    }\n",
       "\n",
       "    .dataframe thead th {\n",
       "        text-align: right;\n",
       "    }\n",
       "</style>\n",
       "<table border=\"1\" class=\"dataframe\">\n",
       "  <thead>\n",
       "    <tr style=\"text-align: right;\">\n",
       "      <th></th>\n",
       "      <th>gender</th>\n",
       "      <th>SeniorCitizen</th>\n",
       "      <th>Partner</th>\n",
       "      <th>Dependents</th>\n",
       "      <th>tenure</th>\n",
       "      <th>PhoneService</th>\n",
       "      <th>MultipleLines</th>\n",
       "      <th>OnlineSecurity</th>\n",
       "      <th>OnlineBackup</th>\n",
       "      <th>DeviceProtection</th>\n",
       "      <th>...</th>\n",
       "      <th>MonthlyCharges</th>\n",
       "      <th>TotalCharges</th>\n",
       "      <th>Churn</th>\n",
       "      <th>InternetService_Fiber optic</th>\n",
       "      <th>InternetService_No</th>\n",
       "      <th>Contract_One year</th>\n",
       "      <th>Contract_Two year</th>\n",
       "      <th>PaymentMethod_Credit card (automatic)</th>\n",
       "      <th>PaymentMethod_Electronic check</th>\n",
       "      <th>PaymentMethod_Mailed check</th>\n",
       "    </tr>\n",
       "  </thead>\n",
       "  <tbody>\n",
       "    <tr>\n",
       "      <th>count</th>\n",
       "      <td>7043.000000</td>\n",
       "      <td>7043.000000</td>\n",
       "      <td>7043.000000</td>\n",
       "      <td>7043.000000</td>\n",
       "      <td>7043.000000</td>\n",
       "      <td>7043.000000</td>\n",
       "      <td>7043.000000</td>\n",
       "      <td>7043.000000</td>\n",
       "      <td>7043.000000</td>\n",
       "      <td>7043.000000</td>\n",
       "      <td>...</td>\n",
       "      <td>7043.000000</td>\n",
       "      <td>7043.000000</td>\n",
       "      <td>7043.000000</td>\n",
       "      <td>7043.000000</td>\n",
       "      <td>7043.000000</td>\n",
       "      <td>7043.000000</td>\n",
       "      <td>7043.000000</td>\n",
       "      <td>7043.000000</td>\n",
       "      <td>7043.000000</td>\n",
       "      <td>7043.000000</td>\n",
       "    </tr>\n",
       "    <tr>\n",
       "      <th>mean</th>\n",
       "      <td>0.504756</td>\n",
       "      <td>0.162147</td>\n",
       "      <td>0.483033</td>\n",
       "      <td>0.299588</td>\n",
       "      <td>0.449599</td>\n",
       "      <td>0.903166</td>\n",
       "      <td>0.421837</td>\n",
       "      <td>0.286668</td>\n",
       "      <td>0.344881</td>\n",
       "      <td>0.343888</td>\n",
       "      <td>...</td>\n",
       "      <td>0.462803</td>\n",
       "      <td>0.262497</td>\n",
       "      <td>0.265370</td>\n",
       "      <td>0.439585</td>\n",
       "      <td>0.216669</td>\n",
       "      <td>0.209144</td>\n",
       "      <td>0.240664</td>\n",
       "      <td>0.216101</td>\n",
       "      <td>0.335794</td>\n",
       "      <td>0.228880</td>\n",
       "    </tr>\n",
       "    <tr>\n",
       "      <th>std</th>\n",
       "      <td>0.500013</td>\n",
       "      <td>0.368612</td>\n",
       "      <td>0.499748</td>\n",
       "      <td>0.458110</td>\n",
       "      <td>0.341104</td>\n",
       "      <td>0.295752</td>\n",
       "      <td>0.493888</td>\n",
       "      <td>0.452237</td>\n",
       "      <td>0.475363</td>\n",
       "      <td>0.475038</td>\n",
       "      <td>...</td>\n",
       "      <td>0.299403</td>\n",
       "      <td>0.261007</td>\n",
       "      <td>0.441561</td>\n",
       "      <td>0.496372</td>\n",
       "      <td>0.412004</td>\n",
       "      <td>0.406726</td>\n",
       "      <td>0.427517</td>\n",
       "      <td>0.411613</td>\n",
       "      <td>0.472301</td>\n",
       "      <td>0.420141</td>\n",
       "    </tr>\n",
       "    <tr>\n",
       "      <th>min</th>\n",
       "      <td>0.000000</td>\n",
       "      <td>0.000000</td>\n",
       "      <td>0.000000</td>\n",
       "      <td>0.000000</td>\n",
       "      <td>0.000000</td>\n",
       "      <td>0.000000</td>\n",
       "      <td>0.000000</td>\n",
       "      <td>0.000000</td>\n",
       "      <td>0.000000</td>\n",
       "      <td>0.000000</td>\n",
       "      <td>...</td>\n",
       "      <td>0.000000</td>\n",
       "      <td>0.000000</td>\n",
       "      <td>0.000000</td>\n",
       "      <td>0.000000</td>\n",
       "      <td>0.000000</td>\n",
       "      <td>0.000000</td>\n",
       "      <td>0.000000</td>\n",
       "      <td>0.000000</td>\n",
       "      <td>0.000000</td>\n",
       "      <td>0.000000</td>\n",
       "    </tr>\n",
       "    <tr>\n",
       "      <th>25%</th>\n",
       "      <td>0.000000</td>\n",
       "      <td>0.000000</td>\n",
       "      <td>0.000000</td>\n",
       "      <td>0.000000</td>\n",
       "      <td>0.125000</td>\n",
       "      <td>1.000000</td>\n",
       "      <td>0.000000</td>\n",
       "      <td>0.000000</td>\n",
       "      <td>0.000000</td>\n",
       "      <td>0.000000</td>\n",
       "      <td>...</td>\n",
       "      <td>0.171642</td>\n",
       "      <td>0.045891</td>\n",
       "      <td>0.000000</td>\n",
       "      <td>0.000000</td>\n",
       "      <td>0.000000</td>\n",
       "      <td>0.000000</td>\n",
       "      <td>0.000000</td>\n",
       "      <td>0.000000</td>\n",
       "      <td>0.000000</td>\n",
       "      <td>0.000000</td>\n",
       "    </tr>\n",
       "    <tr>\n",
       "      <th>50%</th>\n",
       "      <td>1.000000</td>\n",
       "      <td>0.000000</td>\n",
       "      <td>0.000000</td>\n",
       "      <td>0.000000</td>\n",
       "      <td>0.402778</td>\n",
       "      <td>1.000000</td>\n",
       "      <td>0.000000</td>\n",
       "      <td>0.000000</td>\n",
       "      <td>0.000000</td>\n",
       "      <td>0.000000</td>\n",
       "      <td>...</td>\n",
       "      <td>0.518408</td>\n",
       "      <td>0.160574</td>\n",
       "      <td>0.000000</td>\n",
       "      <td>0.000000</td>\n",
       "      <td>0.000000</td>\n",
       "      <td>0.000000</td>\n",
       "      <td>0.000000</td>\n",
       "      <td>0.000000</td>\n",
       "      <td>0.000000</td>\n",
       "      <td>0.000000</td>\n",
       "    </tr>\n",
       "    <tr>\n",
       "      <th>75%</th>\n",
       "      <td>1.000000</td>\n",
       "      <td>0.000000</td>\n",
       "      <td>1.000000</td>\n",
       "      <td>1.000000</td>\n",
       "      <td>0.763889</td>\n",
       "      <td>1.000000</td>\n",
       "      <td>1.000000</td>\n",
       "      <td>1.000000</td>\n",
       "      <td>1.000000</td>\n",
       "      <td>1.000000</td>\n",
       "      <td>...</td>\n",
       "      <td>0.712438</td>\n",
       "      <td>0.436003</td>\n",
       "      <td>1.000000</td>\n",
       "      <td>1.000000</td>\n",
       "      <td>0.000000</td>\n",
       "      <td>0.000000</td>\n",
       "      <td>0.000000</td>\n",
       "      <td>0.000000</td>\n",
       "      <td>1.000000</td>\n",
       "      <td>0.000000</td>\n",
       "    </tr>\n",
       "    <tr>\n",
       "      <th>max</th>\n",
       "      <td>1.000000</td>\n",
       "      <td>1.000000</td>\n",
       "      <td>1.000000</td>\n",
       "      <td>1.000000</td>\n",
       "      <td>1.000000</td>\n",
       "      <td>1.000000</td>\n",
       "      <td>1.000000</td>\n",
       "      <td>1.000000</td>\n",
       "      <td>1.000000</td>\n",
       "      <td>1.000000</td>\n",
       "      <td>...</td>\n",
       "      <td>1.000000</td>\n",
       "      <td>1.000000</td>\n",
       "      <td>1.000000</td>\n",
       "      <td>1.000000</td>\n",
       "      <td>1.000000</td>\n",
       "      <td>1.000000</td>\n",
       "      <td>1.000000</td>\n",
       "      <td>1.000000</td>\n",
       "      <td>1.000000</td>\n",
       "      <td>1.000000</td>\n",
       "    </tr>\n",
       "  </tbody>\n",
       "</table>\n",
       "<p>8 rows × 24 columns</p>\n",
       "</div>"
      ],
      "text/plain": [
       "            gender  SeniorCitizen      Partner   Dependents       tenure  \\\n",
       "count  7043.000000    7043.000000  7043.000000  7043.000000  7043.000000   \n",
       "mean      0.504756       0.162147     0.483033     0.299588     0.449599   \n",
       "std       0.500013       0.368612     0.499748     0.458110     0.341104   \n",
       "min       0.000000       0.000000     0.000000     0.000000     0.000000   \n",
       "25%       0.000000       0.000000     0.000000     0.000000     0.125000   \n",
       "50%       1.000000       0.000000     0.000000     0.000000     0.402778   \n",
       "75%       1.000000       0.000000     1.000000     1.000000     0.763889   \n",
       "max       1.000000       1.000000     1.000000     1.000000     1.000000   \n",
       "\n",
       "       PhoneService  MultipleLines  OnlineSecurity  OnlineBackup  \\\n",
       "count   7043.000000    7043.000000     7043.000000   7043.000000   \n",
       "mean       0.903166       0.421837        0.286668      0.344881   \n",
       "std        0.295752       0.493888        0.452237      0.475363   \n",
       "min        0.000000       0.000000        0.000000      0.000000   \n",
       "25%        1.000000       0.000000        0.000000      0.000000   \n",
       "50%        1.000000       0.000000        0.000000      0.000000   \n",
       "75%        1.000000       1.000000        1.000000      1.000000   \n",
       "max        1.000000       1.000000        1.000000      1.000000   \n",
       "\n",
       "       DeviceProtection  ...  MonthlyCharges  TotalCharges        Churn  \\\n",
       "count       7043.000000  ...     7043.000000   7043.000000  7043.000000   \n",
       "mean           0.343888  ...        0.462803      0.262497     0.265370   \n",
       "std            0.475038  ...        0.299403      0.261007     0.441561   \n",
       "min            0.000000  ...        0.000000      0.000000     0.000000   \n",
       "25%            0.000000  ...        0.171642      0.045891     0.000000   \n",
       "50%            0.000000  ...        0.518408      0.160574     0.000000   \n",
       "75%            1.000000  ...        0.712438      0.436003     1.000000   \n",
       "max            1.000000  ...        1.000000      1.000000     1.000000   \n",
       "\n",
       "       InternetService_Fiber optic  InternetService_No  Contract_One year  \\\n",
       "count                  7043.000000         7043.000000        7043.000000   \n",
       "mean                      0.439585            0.216669           0.209144   \n",
       "std                       0.496372            0.412004           0.406726   \n",
       "min                       0.000000            0.000000           0.000000   \n",
       "25%                       0.000000            0.000000           0.000000   \n",
       "50%                       0.000000            0.000000           0.000000   \n",
       "75%                       1.000000            0.000000           0.000000   \n",
       "max                       1.000000            1.000000           1.000000   \n",
       "\n",
       "       Contract_Two year  PaymentMethod_Credit card (automatic)  \\\n",
       "count        7043.000000                            7043.000000   \n",
       "mean            0.240664                               0.216101   \n",
       "std             0.427517                               0.411613   \n",
       "min             0.000000                               0.000000   \n",
       "25%             0.000000                               0.000000   \n",
       "50%             0.000000                               0.000000   \n",
       "75%             0.000000                               0.000000   \n",
       "max             1.000000                               1.000000   \n",
       "\n",
       "       PaymentMethod_Electronic check  PaymentMethod_Mailed check  \n",
       "count                     7043.000000                 7043.000000  \n",
       "mean                         0.335794                    0.228880  \n",
       "std                          0.472301                    0.420141  \n",
       "min                          0.000000                    0.000000  \n",
       "25%                          0.000000                    0.000000  \n",
       "50%                          0.000000                    0.000000  \n",
       "75%                          1.000000                    0.000000  \n",
       "max                          1.000000                    1.000000  \n",
       "\n",
       "[8 rows x 24 columns]"
      ]
     },
     "execution_count": 55,
     "metadata": {},
     "output_type": "execute_result"
    }
   ],
   "source": [
    "df5.describe()"
   ]
  },
  {
   "cell_type": "code",
   "execution_count": 56,
   "id": "e04b3340",
   "metadata": {},
   "outputs": [],
   "source": [
    "customer_not_left = df5[df5['Churn'] == 0]['tenure']\n",
    "customer_left = df5[df5['Churn'] == 1]['tenure']"
   ]
  },
  {
   "cell_type": "code",
   "execution_count": 57,
   "id": "6295de44",
   "metadata": {},
   "outputs": [
    {
     "data": {
      "image/png": "[encoded data removed]",
      "text/plain": [
       "<Figure size 640x480 with 1 Axes>"
      ]
     },
     "metadata": {},
     "output_type": "display_data"
    }
   ],
   "source": [
    "plt.hist([customer_not_left,customer_left],label=['Churn - No', 'Churn-yes'])\n",
    "plt.xlabel('Customer Tenure in Months')\n",
    "plt.ylabel('No of Customers')\n",
    "plt.legend()\n",
    "plt.show()"
   ]
  },
  {
   "cell_type": "code",
   "execution_count": 58,
   "id": "ab71e477",
   "metadata": {},
   "outputs": [],
   "source": [
    "from sklearn.model_selection import train_test_split"
   ]
  },
  {
   "cell_type": "code",
   "execution_count": 59,
   "id": "f703ca92",
   "metadata": {},
   "outputs": [],
   "source": [
    "X = df5.drop('Churn',axis=1)"
   ]
  },
  {
   "cell_type": "code",
   "execution_count": 60,
   "id": "7da7b1a1",
   "metadata": {},
   "outputs": [],
   "source": [
    "y = df5['Churn']"
   ]
  },
  {
   "cell_type": "code",
   "execution_count": 61,
   "id": "ae7cd106",
   "metadata": {},
   "outputs": [],
   "source": [
    "X_train, X_test, y_train, y_test = train_test_split(X,y,random_state=42,test_size=0.2)"
   ]
  },
  {
   "cell_type": "code",
   "execution_count": 62,
   "id": "9c998756",
   "metadata": {},
   "outputs": [
    {
     "data": {
      "text/plain": [
       "(5634, 23)"
      ]
     },
     "execution_count": 62,
     "metadata": {},
     "output_type": "execute_result"
    }
   ],
   "source": [
    "X_train.shape"
   ]
  },
  {
   "cell_type": "code",
   "execution_count": 63,
   "id": "b3abf48c",
   "metadata": {},
   "outputs": [
    {
     "data": {
      "text/plain": [
       "(5634,)"
      ]
     },
     "execution_count": 63,
     "metadata": {},
     "output_type": "execute_result"
    }
   ],
   "source": [
    "y_train.shape"
   ]
  },
  {
   "cell_type": "code",
   "execution_count": 64,
   "id": "8f5f7bb9",
   "metadata": {},
   "outputs": [
    {
     "data": {
      "text/plain": [
       "(1409, 23)"
      ]
     },
     "execution_count": 64,
     "metadata": {},
     "output_type": "execute_result"
    }
   ],
   "source": [
    "X_test.shape"
   ]
  },
  {
   "cell_type": "code",
   "execution_count": 65,
   "id": "e914043e",
   "metadata": {},
   "outputs": [
    {
     "data": {
      "text/plain": [
       "(1409,)"
      ]
     },
     "execution_count": 65,
     "metadata": {},
     "output_type": "execute_result"
    }
   ],
   "source": [
    "y_test.shape"
   ]
  },
  {
   "cell_type": "markdown",
   "id": "38d78fc4",
   "metadata": {},
   "source": [
    "# ANN Model"
   ]
  },
  {
   "cell_type": "code",
   "execution_count": 66,
   "id": "405a5a44",
   "metadata": {},
   "outputs": [
    {
     "data": {
      "text/plain": [
       "23"
      ]
     },
     "execution_count": 66,
     "metadata": {},
     "output_type": "execute_result"
    }
   ],
   "source": [
    "X_train.shape[1]"
   ]
  },
  {
   "cell_type": "code",
   "execution_count": 67,
   "id": "115bb773",
   "metadata": {},
   "outputs": [
    {
     "data": {
      "text/plain": [
       "gender                                     int64\n",
       "SeniorCitizen                              int64\n",
       "Partner                                    int64\n",
       "Dependents                                 int64\n",
       "tenure                                   float64\n",
       "PhoneService                               int64\n",
       "MultipleLines                              int64\n",
       "OnlineSecurity                             int64\n",
       "OnlineBackup                               int64\n",
       "DeviceProtection                           int64\n",
       "TechSupport                                int64\n",
       "StreamingTV                                int64\n",
       "StreamingMovies                            int64\n",
       "PaperlessBilling                           int64\n",
       "MonthlyCharges                           float64\n",
       "TotalCharges                             float64\n",
       "Churn                                      int64\n",
       "InternetService_Fiber optic                int32\n",
       "InternetService_No                         int32\n",
       "Contract_One year                          int32\n",
       "Contract_Two year                          int32\n",
       "PaymentMethod_Credit card (automatic)      int32\n",
       "PaymentMethod_Electronic check             int32\n",
       "PaymentMethod_Mailed check                 int32\n",
       "dtype: object"
      ]
     },
     "execution_count": 67,
     "metadata": {},
     "output_type": "execute_result"
    }
   ],
   "source": [
    "df5.dtypes"
   ]
  },
  {
   "cell_type": "code",
   "execution_count": 68,
   "id": "1f6bd10e",
   "metadata": {},
   "outputs": [
    {
     "name": "stdout",
     "output_type": "stream",
     "text": [
      "WARNING:tensorflow:From C:\\Users\\Lenovo\\anaconda3\\Lib\\site-packages\\keras\\src\\backend.py:873: The name tf.get_default_graph is deprecated. Please use tf.compat.v1.get_default_graph instead.\n",
      "\n",
      "WARNING:tensorflow:From C:\\Users\\Lenovo\\anaconda3\\Lib\\site-packages\\keras\\src\\optimizers\\__init__.py:309: The name tf.train.Optimizer is deprecated. Please use tf.compat.v1.train.Optimizer instead.\n",
      "\n"
     ]
    }
   ],
   "source": [
    "model = Sequential([\n",
    "    Dense(10,input_shape=(X_train.shape[1],),activation = 'relu'),\n",
    "    Dense(1,activation='sigmoid')\n",
    "])\n",
    "\n",
    "\n",
    "model.compile(optimizer='adam',metrics= ['accuracy'],loss = 'binary_crossentropy')"
   ]
  },
  {
   "cell_type": "code",
   "execution_count": 69,
   "id": "b45f3120",
   "metadata": {},
   "outputs": [
    {
     "name": "stdout",
     "output_type": "stream",
     "text": [
      "Epoch 1/100\n",
      "WARNING:tensorflow:From C:\\Users\\Lenovo\\anaconda3\\Lib\\site-packages\\keras\\src\\utils\\tf_utils.py:492: The name tf.ragged.RaggedTensorValue is deprecated. Please use tf.compat.v1.ragged.RaggedTensorValue instead.\n",
      "\n",
      "WARNING:tensorflow:From C:\\Users\\Lenovo\\anaconda3\\Lib\\site-packages\\keras\\src\\engine\\base_layer_utils.py:384: The name tf.executing_eagerly_outside_functions is deprecated. Please use tf.compat.v1.executing_eagerly_outside_functions instead.\n",
      "\n",
      "177/177 [==============================] - 1s 2ms/step - loss: 0.5291 - accuracy: 0.7346\n",
      "Epoch 2/100\n",
      "177/177 [==============================] - 1s 3ms/step - loss: 0.4583 - accuracy: 0.7739\n",
      "Epoch 3/100\n",
      "177/177 [==============================] - 1s 3ms/step - loss: 0.4394 - accuracy: 0.7877\n",
      "Epoch 4/100\n",
      "177/177 [==============================] - 0s 2ms/step - loss: 0.4323 - accuracy: 0.7946\n",
      "Epoch 5/100\n",
      "177/177 [==============================] - 0s 2ms/step - loss: 0.4281 - accuracy: 0.7961\n",
      "Epoch 6/100\n",
      "177/177 [==============================] - 0s 2ms/step - loss: 0.4261 - accuracy: 0.7984\n",
      "Epoch 7/100\n",
      "177/177 [==============================] - 1s 3ms/step - loss: 0.4244 - accuracy: 0.7961\n",
      "Epoch 8/100\n",
      "177/177 [==============================] - 0s 2ms/step - loss: 0.4237 - accuracy: 0.8003\n",
      "Epoch 9/100\n",
      "177/177 [==============================] - 0s 2ms/step - loss: 0.4230 - accuracy: 0.7989\n",
      "Epoch 10/100\n",
      "177/177 [==============================] - 0s 2ms/step - loss: 0.4227 - accuracy: 0.8001\n",
      "Epoch 11/100\n",
      "177/177 [==============================] - 0s 2ms/step - loss: 0.4222 - accuracy: 0.7980\n",
      "Epoch 12/100\n",
      "177/177 [==============================] - 0s 2ms/step - loss: 0.4218 - accuracy: 0.8030\n",
      "Epoch 13/100\n",
      "177/177 [==============================] - 0s 2ms/step - loss: 0.4208 - accuracy: 0.8012\n",
      "Epoch 14/100\n",
      "177/177 [==============================] - 0s 3ms/step - loss: 0.4204 - accuracy: 0.8012\n",
      "Epoch 15/100\n",
      "177/177 [==============================] - 0s 2ms/step - loss: 0.4208 - accuracy: 0.8017\n",
      "Epoch 16/100\n",
      "177/177 [==============================] - 0s 2ms/step - loss: 0.4199 - accuracy: 0.8019\n",
      "Epoch 17/100\n",
      "177/177 [==============================] - 0s 2ms/step - loss: 0.4207 - accuracy: 0.8017\n",
      "Epoch 18/100\n",
      "177/177 [==============================] - 0s 2ms/step - loss: 0.4202 - accuracy: 0.8024\n",
      "Epoch 19/100\n",
      "177/177 [==============================] - 0s 2ms/step - loss: 0.4188 - accuracy: 0.8042\n",
      "Epoch 20/100\n",
      "177/177 [==============================] - 0s 2ms/step - loss: 0.4189 - accuracy: 0.8046\n",
      "Epoch 21/100\n",
      "177/177 [==============================] - 1s 4ms/step - loss: 0.4185 - accuracy: 0.8010\n",
      "Epoch 22/100\n",
      "177/177 [==============================] - 1s 4ms/step - loss: 0.4182 - accuracy: 0.8028\n",
      "Epoch 23/100\n",
      "177/177 [==============================] - 1s 3ms/step - loss: 0.4171 - accuracy: 0.8028\n",
      "Epoch 24/100\n",
      "177/177 [==============================] - 1s 3ms/step - loss: 0.4177 - accuracy: 0.8019\n",
      "Epoch 25/100\n",
      "177/177 [==============================] - 1s 3ms/step - loss: 0.4170 - accuracy: 0.8023\n",
      "Epoch 26/100\n",
      "177/177 [==============================] - 0s 2ms/step - loss: 0.4163 - accuracy: 0.8005\n",
      "Epoch 27/100\n",
      "177/177 [==============================] - 1s 3ms/step - loss: 0.4165 - accuracy: 0.8046\n",
      "Epoch 28/100\n",
      "177/177 [==============================] - 0s 3ms/step - loss: 0.4155 - accuracy: 0.8040\n",
      "Epoch 29/100\n",
      "177/177 [==============================] - 0s 3ms/step - loss: 0.4156 - accuracy: 0.8030\n",
      "Epoch 30/100\n",
      "177/177 [==============================] - 0s 3ms/step - loss: 0.4156 - accuracy: 0.8035\n",
      "Epoch 31/100\n",
      "177/177 [==============================] - 0s 2ms/step - loss: 0.4149 - accuracy: 0.8062\n",
      "Epoch 32/100\n",
      "177/177 [==============================] - 0s 2ms/step - loss: 0.4140 - accuracy: 0.8058\n",
      "Epoch 33/100\n",
      "177/177 [==============================] - 0s 2ms/step - loss: 0.4147 - accuracy: 0.8049\n",
      "Epoch 34/100\n",
      "177/177 [==============================] - 1s 4ms/step - loss: 0.4134 - accuracy: 0.8037\n",
      "Epoch 35/100\n",
      "177/177 [==============================] - 1s 4ms/step - loss: 0.4137 - accuracy: 0.8051\n",
      "Epoch 36/100\n",
      "177/177 [==============================] - 1s 3ms/step - loss: 0.4142 - accuracy: 0.8060\n",
      "Epoch 37/100\n",
      "177/177 [==============================] - 1s 3ms/step - loss: 0.4132 - accuracy: 0.8051\n",
      "Epoch 38/100\n",
      "177/177 [==============================] - 0s 3ms/step - loss: 0.4125 - accuracy: 0.8060\n",
      "Epoch 39/100\n",
      "177/177 [==============================] - 0s 2ms/step - loss: 0.4125 - accuracy: 0.8049\n",
      "Epoch 40/100\n",
      "177/177 [==============================] - 0s 2ms/step - loss: 0.4120 - accuracy: 0.8060\n",
      "Epoch 41/100\n",
      "177/177 [==============================] - 0s 3ms/step - loss: 0.4123 - accuracy: 0.8055\n",
      "Epoch 42/100\n",
      "177/177 [==============================] - 0s 3ms/step - loss: 0.4119 - accuracy: 0.8042\n",
      "Epoch 43/100\n",
      "177/177 [==============================] - 1s 3ms/step - loss: 0.4118 - accuracy: 0.8080\n",
      "Epoch 44/100\n",
      "177/177 [==============================] - 2s 10ms/step - loss: 0.4111 - accuracy: 0.8071\n",
      "Epoch 45/100\n",
      "177/177 [==============================] - 1s 8ms/step - loss: 0.4108 - accuracy: 0.8069\n",
      "Epoch 46/100\n",
      "177/177 [==============================] - 1s 4ms/step - loss: 0.4106 - accuracy: 0.8074\n",
      "Epoch 47/100\n",
      "177/177 [==============================] - 0s 3ms/step - loss: 0.4107 - accuracy: 0.8076\n",
      "Epoch 48/100\n",
      "177/177 [==============================] - 0s 3ms/step - loss: 0.4100 - accuracy: 0.8076\n",
      "Epoch 49/100\n",
      "177/177 [==============================] - 0s 3ms/step - loss: 0.4103 - accuracy: 0.8065\n",
      "Epoch 50/100\n",
      "177/177 [==============================] - 1s 3ms/step - loss: 0.4095 - accuracy: 0.8069\n",
      "Epoch 51/100\n",
      "177/177 [==============================] - 0s 2ms/step - loss: 0.4099 - accuracy: 0.8087\n",
      "Epoch 52/100\n",
      "177/177 [==============================] - 0s 3ms/step - loss: 0.4098 - accuracy: 0.8080\n",
      "Epoch 53/100\n",
      "177/177 [==============================] - 0s 2ms/step - loss: 0.4099 - accuracy: 0.8087\n",
      "Epoch 54/100\n",
      "177/177 [==============================] - 1s 3ms/step - loss: 0.4090 - accuracy: 0.8048\n",
      "Epoch 55/100\n",
      "177/177 [==============================] - 1s 3ms/step - loss: 0.4089 - accuracy: 0.8064\n",
      "Epoch 56/100\n",
      "177/177 [==============================] - 1s 3ms/step - loss: 0.4090 - accuracy: 0.8078\n",
      "Epoch 57/100\n",
      "177/177 [==============================] - 0s 2ms/step - loss: 0.4087 - accuracy: 0.8067\n",
      "Epoch 58/100\n",
      "177/177 [==============================] - 0s 2ms/step - loss: 0.4089 - accuracy: 0.8060\n",
      "Epoch 59/100\n",
      "177/177 [==============================] - 0s 2ms/step - loss: 0.4081 - accuracy: 0.8090\n",
      "Epoch 60/100\n",
      "177/177 [==============================] - 0s 2ms/step - loss: 0.4081 - accuracy: 0.8092\n",
      "Epoch 61/100\n",
      "177/177 [==============================] - 0s 2ms/step - loss: 0.4084 - accuracy: 0.8085\n",
      "Epoch 62/100\n",
      "177/177 [==============================] - 0s 2ms/step - loss: 0.4082 - accuracy: 0.8111\n",
      "Epoch 63/100\n",
      "177/177 [==============================] - 0s 2ms/step - loss: 0.4077 - accuracy: 0.8097\n",
      "Epoch 64/100\n",
      "177/177 [==============================] - 0s 2ms/step - loss: 0.4074 - accuracy: 0.8095\n",
      "Epoch 65/100\n",
      "177/177 [==============================] - 0s 2ms/step - loss: 0.4079 - accuracy: 0.8095\n",
      "Epoch 66/100\n",
      "177/177 [==============================] - 0s 2ms/step - loss: 0.4073 - accuracy: 0.8095\n",
      "Epoch 67/100\n",
      "177/177 [==============================] - 0s 2ms/step - loss: 0.4079 - accuracy: 0.8095\n",
      "Epoch 68/100\n",
      "177/177 [==============================] - 0s 2ms/step - loss: 0.4073 - accuracy: 0.8083\n",
      "Epoch 69/100\n",
      "177/177 [==============================] - 0s 2ms/step - loss: 0.4068 - accuracy: 0.8083\n",
      "Epoch 70/100\n",
      "177/177 [==============================] - 0s 2ms/step - loss: 0.4072 - accuracy: 0.8095\n",
      "Epoch 71/100\n",
      "177/177 [==============================] - 0s 2ms/step - loss: 0.4071 - accuracy: 0.8080\n",
      "Epoch 72/100\n",
      "177/177 [==============================] - 0s 2ms/step - loss: 0.4068 - accuracy: 0.8065\n",
      "Epoch 73/100\n",
      "177/177 [==============================] - 0s 3ms/step - loss: 0.4064 - accuracy: 0.8106\n",
      "Epoch 74/100\n",
      "177/177 [==============================] - 0s 2ms/step - loss: 0.4064 - accuracy: 0.8064\n",
      "Epoch 75/100\n",
      "177/177 [==============================] - 0s 2ms/step - loss: 0.4058 - accuracy: 0.8065\n",
      "Epoch 76/100\n"
     ]
    },
    {
     "name": "stdout",
     "output_type": "stream",
     "text": [
      "177/177 [==============================] - 0s 2ms/step - loss: 0.4059 - accuracy: 0.8094\n",
      "Epoch 77/100\n",
      "177/177 [==============================] - 0s 2ms/step - loss: 0.4060 - accuracy: 0.8081\n",
      "Epoch 78/100\n",
      "177/177 [==============================] - 0s 2ms/step - loss: 0.4059 - accuracy: 0.8094\n",
      "Epoch 79/100\n",
      "177/177 [==============================] - 0s 2ms/step - loss: 0.4063 - accuracy: 0.8076\n",
      "Epoch 80/100\n",
      "177/177 [==============================] - 0s 2ms/step - loss: 0.4058 - accuracy: 0.8095\n",
      "Epoch 81/100\n",
      "177/177 [==============================] - 0s 2ms/step - loss: 0.4056 - accuracy: 0.8083\n",
      "Epoch 82/100\n",
      "177/177 [==============================] - 0s 1ms/step - loss: 0.4052 - accuracy: 0.8085\n",
      "Epoch 83/100\n",
      "177/177 [==============================] - 0s 2ms/step - loss: 0.4055 - accuracy: 0.8099\n",
      "Epoch 84/100\n",
      "177/177 [==============================] - 0s 2ms/step - loss: 0.4056 - accuracy: 0.8099\n",
      "Epoch 85/100\n",
      "177/177 [==============================] - 0s 2ms/step - loss: 0.4051 - accuracy: 0.8087\n",
      "Epoch 86/100\n",
      "177/177 [==============================] - 0s 2ms/step - loss: 0.4048 - accuracy: 0.8095\n",
      "Epoch 87/100\n",
      "177/177 [==============================] - 0s 2ms/step - loss: 0.4048 - accuracy: 0.8056\n",
      "Epoch 88/100\n",
      "177/177 [==============================] - 0s 2ms/step - loss: 0.4053 - accuracy: 0.8081\n",
      "Epoch 89/100\n",
      "177/177 [==============================] - 0s 2ms/step - loss: 0.4045 - accuracy: 0.8085\n",
      "Epoch 90/100\n",
      "177/177 [==============================] - 0s 2ms/step - loss: 0.4047 - accuracy: 0.8101\n",
      "Epoch 91/100\n",
      "177/177 [==============================] - 0s 2ms/step - loss: 0.4046 - accuracy: 0.8071\n",
      "Epoch 92/100\n",
      "177/177 [==============================] - 1s 3ms/step - loss: 0.4043 - accuracy: 0.8072\n",
      "Epoch 93/100\n",
      "177/177 [==============================] - 0s 2ms/step - loss: 0.4042 - accuracy: 0.8071\n",
      "Epoch 94/100\n",
      "177/177 [==============================] - 0s 2ms/step - loss: 0.4048 - accuracy: 0.8099\n",
      "Epoch 95/100\n",
      "177/177 [==============================] - 0s 2ms/step - loss: 0.4047 - accuracy: 0.8099\n",
      "Epoch 96/100\n",
      "177/177 [==============================] - 0s 2ms/step - loss: 0.4044 - accuracy: 0.8078\n",
      "Epoch 97/100\n",
      "177/177 [==============================] - 0s 2ms/step - loss: 0.4044 - accuracy: 0.8069\n",
      "Epoch 98/100\n",
      "177/177 [==============================] - 0s 2ms/step - loss: 0.4037 - accuracy: 0.8083\n",
      "Epoch 99/100\n",
      "177/177 [==============================] - 0s 2ms/step - loss: 0.4040 - accuracy: 0.8113\n",
      "Epoch 100/100\n",
      "177/177 [==============================] - 0s 2ms/step - loss: 0.4041 - accuracy: 0.8108\n"
     ]
    },
    {
     "data": {
      "text/plain": [
       "<keras.src.callbacks.History at 0x286ca70d510>"
      ]
     },
     "execution_count": 69,
     "metadata": {},
     "output_type": "execute_result"
    }
   ],
   "source": [
    "model.fit(X_train,y_train,epochs=100)"
   ]
  },
  {
   "cell_type": "code",
   "execution_count": null,
   "id": "930094e6",
   "metadata": {},
   "outputs": [],
   "source": []
  },
  {
   "cell_type": "code",
   "execution_count": 70,
   "id": "7f8a7e23",
   "metadata": {},
   "outputs": [
    {
     "name": "stdout",
     "output_type": "stream",
     "text": [
      "45/45 [==============================] - 0s 1ms/step\n"
     ]
    }
   ],
   "source": [
    "y_pred = model.predict(X_test)"
   ]
  },
  {
   "cell_type": "code",
   "execution_count": 73,
   "id": "270c2351",
   "metadata": {},
   "outputs": [
    {
     "data": {
      "text/plain": [
       "array([[0.6183651 ],\n",
       "       [0.06300356],\n",
       "       [0.00449543],\n",
       "       ...,\n",
       "       [0.02276884],\n",
       "       [0.01619685],\n",
       "       [0.40892032]], dtype=float32)"
      ]
     },
     "execution_count": 73,
     "metadata": {},
     "output_type": "execute_result"
    }
   ],
   "source": [
    "y_pred"
   ]
  },
  {
   "cell_type": "code",
   "execution_count": 76,
   "id": "3084f963",
   "metadata": {},
   "outputs": [],
   "source": [
    "y_pred = np.where(y_pred<0.5,0,1)"
   ]
  },
  {
   "cell_type": "code",
   "execution_count": 77,
   "id": "3a874468",
   "metadata": {},
   "outputs": [
    {
     "data": {
      "text/plain": [
       "185     1\n",
       "2715    0\n",
       "3825    0\n",
       "1807    1\n",
       "132     0\n",
       "       ..\n",
       "6366    0\n",
       "315     0\n",
       "2439    0\n",
       "5002    0\n",
       "1161    1\n",
       "Name: Churn, Length: 1409, dtype: int64"
      ]
     },
     "execution_count": 77,
     "metadata": {},
     "output_type": "execute_result"
    }
   ],
   "source": [
    "y_test"
   ]
  },
  {
   "cell_type": "code",
   "execution_count": 78,
   "id": "08c20ed9",
   "metadata": {},
   "outputs": [],
   "source": [
    "from sklearn.metrics import classification_report, confusion_matrix"
   ]
  },
  {
   "cell_type": "code",
   "execution_count": 80,
   "id": "ccaffd66",
   "metadata": {},
   "outputs": [
    {
     "name": "stdout",
     "output_type": "stream",
     "text": [
      "              precision    recall  f1-score   support\n",
      "\n",
      "           0       0.84      0.91      0.87      1036\n",
      "           1       0.68      0.51      0.58       373\n",
      "\n",
      "    accuracy                           0.80      1409\n",
      "   macro avg       0.76      0.71      0.73      1409\n",
      "weighted avg       0.79      0.80      0.80      1409\n",
      "\n"
     ]
    }
   ],
   "source": [
    "print(classification_report(y_test,y_pred))"
   ]
  },
  {
   "cell_type": "code",
   "execution_count": 88,
   "id": "89872bf5",
   "metadata": {},
   "outputs": [
    {
     "data": {
      "image/png": "[encoded data removed]",
      "text/plain": [
       "<Figure size 640x480 with 2 Axes>"
      ]
     },
     "metadata": {},
     "output_type": "display_data"
    }
   ],
   "source": [
    "sns.heatmap(confusion_matrix(y_test,y_pred),annot=True,fmt = 'd')\n",
    "plt.xlabel('Actual Churn')\n",
    "plt.ylabel('Predicted Churn')\n",
    "plt.show()"
   ]
  },
  {
   "cell_type": "markdown",
   "id": "ff347fb1",
   "metadata": {},
   "source": [
    "# Final Conclusion"
   ]
  },
  {
   "cell_type": "code",
   "execution_count": null,
   "id": "80b9cc25",
   "metadata": {},
   "outputs": [],
   "source": []
  }
 ],
 "metadata": {
  "kernelspec": {
   "display_name": "Python 3 (ipykernel)",
   "language": "python",
   "name": "python3"
  },
  "language_info": {
   "codemirror_mode": {
    "name": "ipython",
    "version": 3
   },
   "file_extension": ".py",
   "mimetype": "text/x-python",
   "name": "python",
   "nbconvert_exporter": "python",
   "pygments_lexer": "ipython3",
   "version": "3.11.3"
  }
 },
 "nbformat": 4,
 "nbformat_minor": 5
}
