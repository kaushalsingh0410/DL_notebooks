{
 "cells": [
  {
   "cell_type": "code",
   "execution_count": 1,
   "id": "be7c2cc1",
   "metadata": {},
   "outputs": [],
   "source": [
    "# activation func\n",
    "\n",
    "# sigmoid\n",
    "# tanh\n",
    "# relu\n",
    "# leakyrelu\n",
    "# linear\n",
    "# softmax\n",
    "# elu\n"
   ]
  },
  {
   "cell_type": "code",
   "execution_count": 5,
   "id": "71abb33f",
   "metadata": {},
   "outputs": [],
   "source": [
    "import tensorflow as tf\n",
    "from tensorflow.keras.layers import  Dense\n",
    "from tensorflow.keras.models import Sequential\n",
    "import matplotlib.pyplot as plt\n"
   ]
  },
  {
   "cell_type": "code",
   "execution_count": 6,
   "id": "4bdee184",
   "metadata": {},
   "outputs": [],
   "source": [
    "# load digits"
   ]
  },
  {
   "cell_type": "code",
   "execution_count": 9,
   "id": "c1708d8a",
   "metadata": {},
   "outputs": [
    {
     "name": "stdout",
     "output_type": "stream",
     "text": [
      "done\n"
     ]
    }
   ],
   "source": [
    "(X_train, y_train), (X_test, y_test) = tf.keras.datasets.mnist.load_data()\n",
    "print('done')"
   ]
  },
  {
   "cell_type": "code",
   "execution_count": 10,
   "id": "3fff95c5",
   "metadata": {},
   "outputs": [
    {
     "data": {
      "text/plain": [
       "60000"
      ]
     },
     "execution_count": 10,
     "metadata": {},
     "output_type": "execute_result"
    }
   ],
   "source": [
    "len(X_train)"
   ]
  },
  {
   "cell_type": "code",
   "execution_count": 11,
   "id": "8f7989c8",
   "metadata": {},
   "outputs": [
    {
     "data": {
      "text/plain": [
       "10000"
      ]
     },
     "execution_count": 11,
     "metadata": {},
     "output_type": "execute_result"
    }
   ],
   "source": [
    "len(X_test)"
   ]
  },
  {
   "cell_type": "code",
   "execution_count": 12,
   "id": "2d08d7ab",
   "metadata": {},
   "outputs": [
    {
     "data": {
      "text/plain": [
       "(60000, 28, 28)"
      ]
     },
     "execution_count": 12,
     "metadata": {},
     "output_type": "execute_result"
    }
   ],
   "source": [
    "X_train.shape"
   ]
  },
  {
   "cell_type": "code",
   "execution_count": 14,
   "id": "fe3756f1",
   "metadata": {},
   "outputs": [
    {
     "data": {
      "text/plain": [
       "(28, 28)"
      ]
     },
     "execution_count": 14,
     "metadata": {},
     "output_type": "execute_result"
    }
   ],
   "source": [
    "X_train[0].shape"
   ]
  },
  {
   "cell_type": "code",
   "execution_count": 17,
   "id": "00cacba5",
   "metadata": {},
   "outputs": [
    {
     "data": {
      "image/png": "[encoded data removed]",
      "text/plain": [
       "<Figure size 640x480 with 1 Axes>"
      ]
     },
     "metadata": {},
     "output_type": "display_data"
    }
   ],
   "source": [
    "plt.imshow(X_train[0])\n",
    "plt.show()"
   ]
  },
  {
   "cell_type": "code",
   "execution_count": 16,
   "id": "0eb944cf",
   "metadata": {},
   "outputs": [
    {
     "data": {
      "text/plain": [
       "5"
      ]
     },
     "execution_count": 16,
     "metadata": {},
     "output_type": "execute_result"
    }
   ],
   "source": [
    "y_train[0]"
   ]
  },
  {
   "cell_type": "code",
   "execution_count": 18,
   "id": "c95b046c",
   "metadata": {},
   "outputs": [
    {
     "data": {
      "text/plain": [
       "784"
      ]
     },
     "execution_count": 18,
     "metadata": {},
     "output_type": "execute_result"
    }
   ],
   "source": [
    "28*28"
   ]
  },
  {
   "cell_type": "code",
   "execution_count": 20,
   "id": "305ec913",
   "metadata": {},
   "outputs": [
    {
     "data": {
      "text/plain": [
       "784"
      ]
     },
     "execution_count": 20,
     "metadata": {},
     "output_type": "execute_result"
    }
   ],
   "source": [
    "len(X_train[0].flatten())"
   ]
  },
  {
   "cell_type": "code",
   "execution_count": 24,
   "id": "b68044bb",
   "metadata": {
    "scrolled": true
   },
   "outputs": [
    {
     "data": {
      "text/plain": [
       "{0, 1, 2, 3, 4, 5, 6, 7, 8, 9}"
      ]
     },
     "execution_count": 24,
     "metadata": {},
     "output_type": "execute_result"
    }
   ],
   "source": [
    "\n",
    "set(y_train)"
   ]
  },
  {
   "cell_type": "code",
   "execution_count": 30,
   "id": "a1db6cc1",
   "metadata": {},
   "outputs": [
    {
     "data": {
      "text/plain": [
       "(784,)"
      ]
     },
     "execution_count": 30,
     "metadata": {},
     "output_type": "execute_result"
    }
   ],
   "source": [
    "X_train[0].flatten().shape"
   ]
  },
  {
   "cell_type": "code",
   "execution_count": 54,
   "id": "4063b46b",
   "metadata": {},
   "outputs": [],
   "source": [
    "model = Sequential([\n",
    "    Dense(10,input_shape = X_train[0].flatten().shape, activation = 'sigmoid')\n",
    "])"
   ]
  },
  {
   "cell_type": "code",
   "execution_count": null,
   "id": "c5130e3a",
   "metadata": {},
   "outputs": [],
   "source": []
  },
  {
   "cell_type": "code",
   "execution_count": null,
   "id": "47d0cd28",
   "metadata": {},
   "outputs": [],
   "source": []
  },
  {
   "cell_type": "code",
   "execution_count": 50,
   "id": "d76b52eb",
   "metadata": {},
   "outputs": [],
   "source": [
    "X_train_reshaped = X_train.reshape(len(X_train),28*28)\n",
    "X_test_reshaped = X_test.reshape(len(X_test),28*28)"
   ]
  },
  {
   "cell_type": "code",
   "execution_count": 51,
   "id": "1977f1c4",
   "metadata": {},
   "outputs": [
    {
     "data": {
      "text/plain": [
       "(60000, 784)"
      ]
     },
     "execution_count": 51,
     "metadata": {},
     "output_type": "execute_result"
    }
   ],
   "source": [
    "X_train_reshaped.shape"
   ]
  },
  {
   "cell_type": "code",
   "execution_count": 52,
   "id": "84579d5f",
   "metadata": {},
   "outputs": [
    {
     "data": {
      "text/plain": [
       "(10000, 784)"
      ]
     },
     "execution_count": 52,
     "metadata": {},
     "output_type": "execute_result"
    }
   ],
   "source": [
    "X_test_reshaped.shape"
   ]
  },
  {
   "cell_type": "code",
   "execution_count": 55,
   "id": "dca8c241",
   "metadata": {},
   "outputs": [],
   "source": [
    "model.compile(optimizer='adam', \n",
    "              loss='sparse_categorical_crossentropy',\n",
    "             metrics=['accuracy'])"
   ]
  },
  {
   "cell_type": "code",
   "execution_count": 56,
   "id": "5aac9a68",
   "metadata": {},
   "outputs": [
    {
     "name": "stdout",
     "output_type": "stream",
     "text": [
      "Epoch 1/20\n",
      "WARNING:tensorflow:From C:\\Users\\Lenovo\\anaconda3\\Lib\\site-packages\\keras\\src\\utils\\tf_utils.py:492: The name tf.ragged.RaggedTensorValue is deprecated. Please use tf.compat.v1.ragged.RaggedTensorValue instead.\n",
      "\n",
      "WARNING:tensorflow:From C:\\Users\\Lenovo\\anaconda3\\Lib\\site-packages\\keras\\src\\engine\\base_layer_utils.py:384: The name tf.executing_eagerly_outside_functions is deprecated. Please use tf.compat.v1.executing_eagerly_outside_functions instead.\n",
      "\n",
      "1500/1500 [==============================] - 4s 2ms/step - loss: 10.2289 - accuracy: 0.8330 - val_loss: 6.0687 - val_accuracy: 0.8830\n",
      "Epoch 2/20\n",
      "1500/1500 [==============================] - 3s 2ms/step - loss: 6.3385 - accuracy: 0.8760 - val_loss: 6.0001 - val_accuracy: 0.8810\n",
      "Epoch 3/20\n",
      "1500/1500 [==============================] - 3s 2ms/step - loss: 5.8314 - accuracy: 0.8793 - val_loss: 6.6394 - val_accuracy: 0.8764\n",
      "Epoch 4/20\n",
      "1500/1500 [==============================] - 3s 2ms/step - loss: 5.5883 - accuracy: 0.8842 - val_loss: 5.4063 - val_accuracy: 0.8924\n",
      "Epoch 5/20\n",
      "1500/1500 [==============================] - 4s 3ms/step - loss: 5.4123 - accuracy: 0.8856 - val_loss: 5.3883 - val_accuracy: 0.8955\n",
      "Epoch 6/20\n",
      "1500/1500 [==============================] - 4s 3ms/step - loss: 5.3341 - accuracy: 0.8862 - val_loss: 5.6416 - val_accuracy: 0.8884\n",
      "Epoch 7/20\n",
      "1500/1500 [==============================] - 4s 2ms/step - loss: 5.3159 - accuracy: 0.8860 - val_loss: 5.5856 - val_accuracy: 0.8963\n",
      "Epoch 8/20\n",
      "1500/1500 [==============================] - 3s 2ms/step - loss: 5.2193 - accuracy: 0.8900 - val_loss: 4.9905 - val_accuracy: 0.9072\n",
      "Epoch 9/20\n",
      "1500/1500 [==============================] - 4s 3ms/step - loss: 5.1809 - accuracy: 0.8903 - val_loss: 5.3993 - val_accuracy: 0.8943\n",
      "Epoch 10/20\n",
      "1500/1500 [==============================] - 3s 2ms/step - loss: 5.1703 - accuracy: 0.8911 - val_loss: 6.5238 - val_accuracy: 0.8888\n",
      "Epoch 11/20\n",
      "1500/1500 [==============================] - 4s 2ms/step - loss: 5.1194 - accuracy: 0.8911 - val_loss: 5.3161 - val_accuracy: 0.8974\n",
      "Epoch 12/20\n",
      "1500/1500 [==============================] - 5s 4ms/step - loss: 5.1478 - accuracy: 0.8913 - val_loss: 5.5409 - val_accuracy: 0.8942\n",
      "Epoch 13/20\n",
      "1500/1500 [==============================] - 5s 3ms/step - loss: 5.0877 - accuracy: 0.8899 - val_loss: 5.9031 - val_accuracy: 0.8956\n",
      "Epoch 14/20\n",
      "1500/1500 [==============================] - 3s 2ms/step - loss: 5.0889 - accuracy: 0.8910 - val_loss: 7.7527 - val_accuracy: 0.8612\n",
      "Epoch 15/20\n",
      "1500/1500 [==============================] - 3s 2ms/step - loss: 5.1312 - accuracy: 0.8910 - val_loss: 5.8745 - val_accuracy: 0.8925\n",
      "Epoch 16/20\n",
      "1500/1500 [==============================] - 3s 2ms/step - loss: 5.0621 - accuracy: 0.8923 - val_loss: 5.5030 - val_accuracy: 0.9001\n",
      "Epoch 17/20\n",
      "1500/1500 [==============================] - 4s 2ms/step - loss: 5.0967 - accuracy: 0.8919 - val_loss: 7.0571 - val_accuracy: 0.8720\n",
      "Epoch 18/20\n",
      "1500/1500 [==============================] - 4s 3ms/step - loss: 5.1144 - accuracy: 0.8932 - val_loss: 6.0141 - val_accuracy: 0.8875\n",
      "Epoch 19/20\n",
      "1500/1500 [==============================] - 3s 2ms/step - loss: 5.1405 - accuracy: 0.8921 - val_loss: 6.5192 - val_accuracy: 0.8887\n",
      "Epoch 20/20\n",
      "1500/1500 [==============================] - 3s 2ms/step - loss: 5.1496 - accuracy: 0.8931 - val_loss: 7.0962 - val_accuracy: 0.8767\n"
     ]
    },
    {
     "data": {
      "text/plain": [
       "<keras.src.callbacks.History at 0x20b788286d0>"
      ]
     },
     "execution_count": 56,
     "metadata": {},
     "output_type": "execute_result"
    }
   ],
   "source": [
    "model.fit(X_train_reshaped,y_train,epochs=20,validation_split=0.2)"
   ]
  },
  {
   "cell_type": "code",
   "execution_count": null,
   "id": "48a5a89f",
   "metadata": {},
   "outputs": [],
   "source": []
  },
  {
   "cell_type": "code",
   "execution_count": 59,
   "id": "fbf4d5e3",
   "metadata": {},
   "outputs": [],
   "source": [
    "new_X_train = X_train/255\n",
    "new_X_test = X_test/255"
   ]
  },
  {
   "cell_type": "code",
   "execution_count": 60,
   "id": "2bc9eece",
   "metadata": {
    "scrolled": true
   },
   "outputs": [
    {
     "data": {
      "text/plain": [
       "0"
      ]
     },
     "execution_count": 60,
     "metadata": {},
     "output_type": "execute_result"
    }
   ],
   "source": [
    "X_train.min()"
   ]
  },
  {
   "cell_type": "code",
   "execution_count": 61,
   "id": "5045e2a9",
   "metadata": {
    "scrolled": true
   },
   "outputs": [
    {
     "data": {
      "text/plain": [
       "255"
      ]
     },
     "execution_count": 61,
     "metadata": {},
     "output_type": "execute_result"
    }
   ],
   "source": [
    "X_train.max()"
   ]
  },
  {
   "cell_type": "code",
   "execution_count": 62,
   "id": "d5ec73c7",
   "metadata": {},
   "outputs": [
    {
     "data": {
      "text/plain": [
       "0.0"
      ]
     },
     "execution_count": 62,
     "metadata": {},
     "output_type": "execute_result"
    }
   ],
   "source": [
    "new_X_train.min()"
   ]
  },
  {
   "cell_type": "code",
   "execution_count": 63,
   "id": "0c1fe156",
   "metadata": {},
   "outputs": [
    {
     "data": {
      "text/plain": [
       "1.0"
      ]
     },
     "execution_count": 63,
     "metadata": {},
     "output_type": "execute_result"
    }
   ],
   "source": [
    "new_X_train.max()"
   ]
  },
  {
   "cell_type": "code",
   "execution_count": null,
   "id": "e76a42ee",
   "metadata": {},
   "outputs": [],
   "source": []
  },
  {
   "cell_type": "code",
   "execution_count": 74,
   "id": "673516ec",
   "metadata": {},
   "outputs": [],
   "source": [
    "X_train_reshaped = new_X_train.reshape(len(new_X_train),28*28)\n",
    "X_test_reshaped = new_X_test.reshape(len(new_X_test),28*28)"
   ]
  },
  {
   "cell_type": "code",
   "execution_count": null,
   "id": "8c3d7d85",
   "metadata": {},
   "outputs": [],
   "source": []
  },
  {
   "cell_type": "code",
   "execution_count": 75,
   "id": "4298d389",
   "metadata": {},
   "outputs": [
    {
     "data": {
      "text/plain": [
       "1.0"
      ]
     },
     "execution_count": 75,
     "metadata": {},
     "output_type": "execute_result"
    }
   ],
   "source": [
    "X_train_reshaped.max()"
   ]
  },
  {
   "cell_type": "code",
   "execution_count": 76,
   "id": "6314a48e",
   "metadata": {},
   "outputs": [
    {
     "name": "stdout",
     "output_type": "stream",
     "text": [
      "Epoch 1/20\n",
      "1500/1500 [==============================] - 4s 2ms/step - loss: 0.5125 - accuracy: 0.8679 - val_loss: 0.3169 - val_accuracy: 0.9126\n",
      "Epoch 2/20\n",
      "1500/1500 [==============================] - 3s 2ms/step - loss: 0.3185 - accuracy: 0.9111 - val_loss: 0.2878 - val_accuracy: 0.9206\n",
      "Epoch 3/20\n",
      "1500/1500 [==============================] - 3s 2ms/step - loss: 0.2936 - accuracy: 0.9182 - val_loss: 0.2743 - val_accuracy: 0.9252\n",
      "Epoch 4/20\n",
      "1500/1500 [==============================] - 3s 2ms/step - loss: 0.2815 - accuracy: 0.9207 - val_loss: 0.2716 - val_accuracy: 0.9255\n",
      "Epoch 5/20\n",
      "1500/1500 [==============================] - 3s 2ms/step - loss: 0.2736 - accuracy: 0.9231 - val_loss: 0.2675 - val_accuracy: 0.9279\n",
      "Epoch 6/20\n",
      "1500/1500 [==============================] - 5s 3ms/step - loss: 0.2684 - accuracy: 0.9257 - val_loss: 0.2653 - val_accuracy: 0.9282\n",
      "Epoch 7/20\n",
      "1500/1500 [==============================] - 4s 3ms/step - loss: 0.2638 - accuracy: 0.9265 - val_loss: 0.2677 - val_accuracy: 0.9253\n",
      "Epoch 8/20\n",
      "1500/1500 [==============================] - 4s 3ms/step - loss: 0.2608 - accuracy: 0.9264 - val_loss: 0.2609 - val_accuracy: 0.9286\n",
      "Epoch 9/20\n",
      "1500/1500 [==============================] - 3s 2ms/step - loss: 0.2576 - accuracy: 0.9284 - val_loss: 0.2631 - val_accuracy: 0.9285\n",
      "Epoch 10/20\n",
      "1500/1500 [==============================] - 4s 2ms/step - loss: 0.2555 - accuracy: 0.9295 - val_loss: 0.2639 - val_accuracy: 0.9277\n",
      "Epoch 11/20\n",
      "1500/1500 [==============================] - 5s 3ms/step - loss: 0.2534 - accuracy: 0.9290 - val_loss: 0.2624 - val_accuracy: 0.9285\n",
      "Epoch 12/20\n",
      "1500/1500 [==============================] - 4s 2ms/step - loss: 0.2510 - accuracy: 0.9299 - val_loss: 0.2606 - val_accuracy: 0.9309\n",
      "Epoch 13/20\n",
      "1500/1500 [==============================] - 7s 5ms/step - loss: 0.2497 - accuracy: 0.9302 - val_loss: 0.2631 - val_accuracy: 0.9297\n",
      "Epoch 14/20\n",
      "1500/1500 [==============================] - 3s 2ms/step - loss: 0.2482 - accuracy: 0.9309 - val_loss: 0.2619 - val_accuracy: 0.9298\n",
      "Epoch 15/20\n",
      "1500/1500 [==============================] - 4s 2ms/step - loss: 0.2469 - accuracy: 0.9312 - val_loss: 0.2614 - val_accuracy: 0.9297\n",
      "Epoch 16/20\n",
      "1500/1500 [==============================] - 3s 2ms/step - loss: 0.2456 - accuracy: 0.9323 - val_loss: 0.2633 - val_accuracy: 0.9312\n",
      "Epoch 17/20\n",
      "1500/1500 [==============================] - 3s 2ms/step - loss: 0.2443 - accuracy: 0.9318 - val_loss: 0.2606 - val_accuracy: 0.9312\n",
      "Epoch 18/20\n",
      "1500/1500 [==============================] - 3s 2ms/step - loss: 0.2438 - accuracy: 0.9322 - val_loss: 0.2604 - val_accuracy: 0.9310\n",
      "Epoch 19/20\n",
      "1500/1500 [==============================] - 4s 3ms/step - loss: 0.2422 - accuracy: 0.9329 - val_loss: 0.2623 - val_accuracy: 0.9301\n",
      "Epoch 20/20\n",
      "1500/1500 [==============================] - 4s 3ms/step - loss: 0.2417 - accuracy: 0.9325 - val_loss: 0.2630 - val_accuracy: 0.9301\n"
     ]
    },
    {
     "data": {
      "text/plain": [
       "<keras.src.callbacks.History at 0x20b6ee65bd0>"
      ]
     },
     "execution_count": 76,
     "metadata": {},
     "output_type": "execute_result"
    }
   ],
   "source": [
    "model = Sequential([\n",
    "    Dense(10,input_shape = X_train[0].flatten().shape, activation = 'sigmoid')\n",
    "])\n",
    "\n",
    "\n",
    "model.compile(optimizer='adam', \n",
    "              loss='sparse_categorical_crossentropy',\n",
    "             metrics=['accuracy'])\n",
    "\n",
    "\n",
    "model.fit(X_train_reshaped,y_train,epochs=20,validation_split=0.2)"
   ]
  },
  {
   "cell_type": "code",
   "execution_count": 77,
   "id": "e3311b92",
   "metadata": {},
   "outputs": [
    {
     "name": "stdout",
     "output_type": "stream",
     "text": [
      "313/313 [==============================] - 1s 2ms/step - loss: 0.2680 - accuracy: 0.9287\n"
     ]
    },
    {
     "data": {
      "text/plain": [
       "[0.26802709698677063, 0.9286999702453613]"
      ]
     },
     "execution_count": 77,
     "metadata": {},
     "output_type": "execute_result"
    }
   ],
   "source": [
    "model.evaluate(X_test_reshaped,y_test)"
   ]
  },
  {
   "cell_type": "code",
   "execution_count": null,
   "id": "f76e5ef3",
   "metadata": {},
   "outputs": [],
   "source": []
  },
  {
   "cell_type": "code",
   "execution_count": 78,
   "id": "dc7431c5",
   "metadata": {
    "scrolled": false
   },
   "outputs": [
    {
     "data": {
      "text/plain": [
       "array([0.        , 0.        , 0.        , 0.        , 0.        ,\n",
       "       0.        , 0.        , 0.        , 0.        , 0.        ,\n",
       "       0.        , 0.        , 0.        , 0.        , 0.        ,\n",
       "       0.        , 0.        , 0.        , 0.        , 0.        ,\n",
       "       0.        , 0.        , 0.        , 0.        , 0.        ,\n",
       "       0.        , 0.        , 0.        , 0.        , 0.        ,\n",
       "       0.        , 0.        , 0.        , 0.        , 0.        ,\n",
       "       0.        , 0.        , 0.        , 0.        , 0.        ,\n",
       "       0.        , 0.        , 0.        , 0.        , 0.        ,\n",
       "       0.        , 0.        , 0.        , 0.        , 0.        ,\n",
       "       0.        , 0.        , 0.        , 0.        , 0.        ,\n",
       "       0.        , 0.        , 0.        , 0.        , 0.        ,\n",
       "       0.        , 0.        , 0.        , 0.        , 0.        ,\n",
       "       0.        , 0.        , 0.        , 0.        , 0.        ,\n",
       "       0.        , 0.        , 0.        , 0.        , 0.        ,\n",
       "       0.        , 0.        , 0.        , 0.        , 0.        ,\n",
       "       0.        , 0.        , 0.        , 0.        , 0.        ,\n",
       "       0.        , 0.        , 0.        , 0.        , 0.        ,\n",
       "       0.        , 0.        , 0.        , 0.        , 0.        ,\n",
       "       0.        , 0.        , 0.        , 0.        , 0.        ,\n",
       "       0.        , 0.        , 0.        , 0.        , 0.        ,\n",
       "       0.        , 0.        , 0.        , 0.        , 0.        ,\n",
       "       0.        , 0.        , 0.        , 0.        , 0.        ,\n",
       "       0.        , 0.        , 0.        , 0.        , 0.        ,\n",
       "       0.        , 0.        , 0.        , 0.        , 0.        ,\n",
       "       0.        , 0.        , 0.        , 0.        , 0.        ,\n",
       "       0.        , 0.        , 0.        , 0.        , 0.        ,\n",
       "       0.        , 0.        , 0.        , 0.        , 0.        ,\n",
       "       0.        , 0.        , 0.        , 0.        , 0.        ,\n",
       "       0.        , 0.        , 0.        , 0.        , 0.        ,\n",
       "       0.        , 0.        , 0.01176471, 0.07058824, 0.07058824,\n",
       "       0.07058824, 0.49411765, 0.53333333, 0.68627451, 0.10196078,\n",
       "       0.65098039, 1.        , 0.96862745, 0.49803922, 0.        ,\n",
       "       0.        , 0.        , 0.        , 0.        , 0.        ,\n",
       "       0.        , 0.        , 0.        , 0.        , 0.        ,\n",
       "       0.        , 0.11764706, 0.14117647, 0.36862745, 0.60392157,\n",
       "       0.66666667, 0.99215686, 0.99215686, 0.99215686, 0.99215686,\n",
       "       0.99215686, 0.88235294, 0.6745098 , 0.99215686, 0.94901961,\n",
       "       0.76470588, 0.25098039, 0.        , 0.        , 0.        ,\n",
       "       0.        , 0.        , 0.        , 0.        , 0.        ,\n",
       "       0.        , 0.        , 0.        , 0.19215686, 0.93333333,\n",
       "       0.99215686, 0.99215686, 0.99215686, 0.99215686, 0.99215686,\n",
       "       0.99215686, 0.99215686, 0.99215686, 0.98431373, 0.36470588,\n",
       "       0.32156863, 0.32156863, 0.21960784, 0.15294118, 0.        ,\n",
       "       0.        , 0.        , 0.        , 0.        , 0.        ,\n",
       "       0.        , 0.        , 0.        , 0.        , 0.        ,\n",
       "       0.        , 0.07058824, 0.85882353, 0.99215686, 0.99215686,\n",
       "       0.99215686, 0.99215686, 0.99215686, 0.77647059, 0.71372549,\n",
       "       0.96862745, 0.94509804, 0.        , 0.        , 0.        ,\n",
       "       0.        , 0.        , 0.        , 0.        , 0.        ,\n",
       "       0.        , 0.        , 0.        , 0.        , 0.        ,\n",
       "       0.        , 0.        , 0.        , 0.        , 0.        ,\n",
       "       0.31372549, 0.61176471, 0.41960784, 0.99215686, 0.99215686,\n",
       "       0.80392157, 0.04313725, 0.        , 0.16862745, 0.60392157,\n",
       "       0.        , 0.        , 0.        , 0.        , 0.        ,\n",
       "       0.        , 0.        , 0.        , 0.        , 0.        ,\n",
       "       0.        , 0.        , 0.        , 0.        , 0.        ,\n",
       "       0.        , 0.        , 0.        , 0.        , 0.05490196,\n",
       "       0.00392157, 0.60392157, 0.99215686, 0.35294118, 0.        ,\n",
       "       0.        , 0.        , 0.        , 0.        , 0.        ,\n",
       "       0.        , 0.        , 0.        , 0.        , 0.        ,\n",
       "       0.        , 0.        , 0.        , 0.        , 0.        ,\n",
       "       0.        , 0.        , 0.        , 0.        , 0.        ,\n",
       "       0.        , 0.        , 0.        , 0.        , 0.54509804,\n",
       "       0.99215686, 0.74509804, 0.00784314, 0.        , 0.        ,\n",
       "       0.        , 0.        , 0.        , 0.        , 0.        ,\n",
       "       0.        , 0.        , 0.        , 0.        , 0.        ,\n",
       "       0.        , 0.        , 0.        , 0.        , 0.        ,\n",
       "       0.        , 0.        , 0.        , 0.        , 0.        ,\n",
       "       0.        , 0.        , 0.04313725, 0.74509804, 0.99215686,\n",
       "       0.2745098 , 0.        , 0.        , 0.        , 0.        ,\n",
       "       0.        , 0.        , 0.        , 0.        , 0.        ,\n",
       "       0.        , 0.        , 0.        , 0.        , 0.        ,\n",
       "       0.        , 0.        , 0.        , 0.        , 0.        ,\n",
       "       0.        , 0.        , 0.        , 0.        , 0.        ,\n",
       "       0.        , 0.1372549 , 0.94509804, 0.88235294, 0.62745098,\n",
       "       0.42352941, 0.00392157, 0.        , 0.        , 0.        ,\n",
       "       0.        , 0.        , 0.        , 0.        , 0.        ,\n",
       "       0.        , 0.        , 0.        , 0.        , 0.        ,\n",
       "       0.        , 0.        , 0.        , 0.        , 0.        ,\n",
       "       0.        , 0.        , 0.        , 0.        , 0.        ,\n",
       "       0.31764706, 0.94117647, 0.99215686, 0.99215686, 0.46666667,\n",
       "       0.09803922, 0.        , 0.        , 0.        , 0.        ,\n",
       "       0.        , 0.        , 0.        , 0.        , 0.        ,\n",
       "       0.        , 0.        , 0.        , 0.        , 0.        ,\n",
       "       0.        , 0.        , 0.        , 0.        , 0.        ,\n",
       "       0.        , 0.        , 0.        , 0.        , 0.17647059,\n",
       "       0.72941176, 0.99215686, 0.99215686, 0.58823529, 0.10588235,\n",
       "       0.        , 0.        , 0.        , 0.        , 0.        ,\n",
       "       0.        , 0.        , 0.        , 0.        , 0.        ,\n",
       "       0.        , 0.        , 0.        , 0.        , 0.        ,\n",
       "       0.        , 0.        , 0.        , 0.        , 0.        ,\n",
       "       0.        , 0.        , 0.        , 0.0627451 , 0.36470588,\n",
       "       0.98823529, 0.99215686, 0.73333333, 0.        , 0.        ,\n",
       "       0.        , 0.        , 0.        , 0.        , 0.        ,\n",
       "       0.        , 0.        , 0.        , 0.        , 0.        ,\n",
       "       0.        , 0.        , 0.        , 0.        , 0.        ,\n",
       "       0.        , 0.        , 0.        , 0.        , 0.        ,\n",
       "       0.        , 0.        , 0.        , 0.97647059, 0.99215686,\n",
       "       0.97647059, 0.25098039, 0.        , 0.        , 0.        ,\n",
       "       0.        , 0.        , 0.        , 0.        , 0.        ,\n",
       "       0.        , 0.        , 0.        , 0.        , 0.        ,\n",
       "       0.        , 0.        , 0.        , 0.        , 0.        ,\n",
       "       0.        , 0.        , 0.        , 0.18039216, 0.50980392,\n",
       "       0.71764706, 0.99215686, 0.99215686, 0.81176471, 0.00784314,\n",
       "       0.        , 0.        , 0.        , 0.        , 0.        ,\n",
       "       0.        , 0.        , 0.        , 0.        , 0.        ,\n",
       "       0.        , 0.        , 0.        , 0.        , 0.        ,\n",
       "       0.        , 0.        , 0.        , 0.        , 0.15294118,\n",
       "       0.58039216, 0.89803922, 0.99215686, 0.99215686, 0.99215686,\n",
       "       0.98039216, 0.71372549, 0.        , 0.        , 0.        ,\n",
       "       0.        , 0.        , 0.        , 0.        , 0.        ,\n",
       "       0.        , 0.        , 0.        , 0.        , 0.        ,\n",
       "       0.        , 0.        , 0.        , 0.        , 0.        ,\n",
       "       0.09411765, 0.44705882, 0.86666667, 0.99215686, 0.99215686,\n",
       "       0.99215686, 0.99215686, 0.78823529, 0.30588235, 0.        ,\n",
       "       0.        , 0.        , 0.        , 0.        , 0.        ,\n",
       "       0.        , 0.        , 0.        , 0.        , 0.        ,\n",
       "       0.        , 0.        , 0.        , 0.        , 0.        ,\n",
       "       0.        , 0.09019608, 0.25882353, 0.83529412, 0.99215686,\n",
       "       0.99215686, 0.99215686, 0.99215686, 0.77647059, 0.31764706,\n",
       "       0.00784314, 0.        , 0.        , 0.        , 0.        ,\n",
       "       0.        , 0.        , 0.        , 0.        , 0.        ,\n",
       "       0.        , 0.        , 0.        , 0.        , 0.        ,\n",
       "       0.        , 0.        , 0.07058824, 0.67058824, 0.85882353,\n",
       "       0.99215686, 0.99215686, 0.99215686, 0.99215686, 0.76470588,\n",
       "       0.31372549, 0.03529412, 0.        , 0.        , 0.        ,\n",
       "       0.        , 0.        , 0.        , 0.        , 0.        ,\n",
       "       0.        , 0.        , 0.        , 0.        , 0.        ,\n",
       "       0.        , 0.        , 0.        , 0.21568627, 0.6745098 ,\n",
       "       0.88627451, 0.99215686, 0.99215686, 0.99215686, 0.99215686,\n",
       "       0.95686275, 0.52156863, 0.04313725, 0.        , 0.        ,\n",
       "       0.        , 0.        , 0.        , 0.        , 0.        ,\n",
       "       0.        , 0.        , 0.        , 0.        , 0.        ,\n",
       "       0.        , 0.        , 0.        , 0.        , 0.        ,\n",
       "       0.        , 0.53333333, 0.99215686, 0.99215686, 0.99215686,\n",
       "       0.83137255, 0.52941176, 0.51764706, 0.0627451 , 0.        ,\n",
       "       0.        , 0.        , 0.        , 0.        , 0.        ,\n",
       "       0.        , 0.        , 0.        , 0.        , 0.        ,\n",
       "       0.        , 0.        , 0.        , 0.        , 0.        ,\n",
       "       0.        , 0.        , 0.        , 0.        , 0.        ,\n",
       "       0.        , 0.        , 0.        , 0.        , 0.        ,\n",
       "       0.        , 0.        , 0.        , 0.        , 0.        ,\n",
       "       0.        , 0.        , 0.        , 0.        , 0.        ,\n",
       "       0.        , 0.        , 0.        , 0.        , 0.        ,\n",
       "       0.        , 0.        , 0.        , 0.        , 0.        ,\n",
       "       0.        , 0.        , 0.        , 0.        , 0.        ,\n",
       "       0.        , 0.        , 0.        , 0.        , 0.        ,\n",
       "       0.        , 0.        , 0.        , 0.        , 0.        ,\n",
       "       0.        , 0.        , 0.        , 0.        , 0.        ,\n",
       "       0.        , 0.        , 0.        , 0.        , 0.        ,\n",
       "       0.        , 0.        , 0.        , 0.        , 0.        ,\n",
       "       0.        , 0.        , 0.        , 0.        , 0.        ,\n",
       "       0.        , 0.        , 0.        , 0.        , 0.        ,\n",
       "       0.        , 0.        , 0.        , 0.        , 0.        ,\n",
       "       0.        , 0.        , 0.        , 0.        , 0.        ,\n",
       "       0.        , 0.        , 0.        , 0.        ])"
      ]
     },
     "execution_count": 78,
     "metadata": {},
     "output_type": "execute_result"
    }
   ],
   "source": [
    "X_train_reshaped[0]"
   ]
  },
  {
   "cell_type": "code",
   "execution_count": 79,
   "id": "f90be316",
   "metadata": {
    "scrolled": true
   },
   "outputs": [
    {
     "data": {
      "text/plain": [
       "5"
      ]
     },
     "execution_count": 79,
     "metadata": {},
     "output_type": "execute_result"
    }
   ],
   "source": [
    "y_train[0]"
   ]
  },
  {
   "cell_type": "code",
   "execution_count": 93,
   "id": "f69e074f",
   "metadata": {},
   "outputs": [
    {
     "data": {
      "text/plain": [
       "<matplotlib.image.AxesImage at 0x20b1f479b10>"
      ]
     },
     "execution_count": 93,
     "metadata": {},
     "output_type": "execute_result"
    },
    {
     "data": {
      "image/png": "[encoded data removed]",
      "text/plain": [
       "<Figure size 640x480 with 1 Axes>"
      ]
     },
     "metadata": {},
     "output_type": "display_data"
    }
   ],
   "source": [
    "plt.gray()\n",
    "plt.imshow(X_train[0])"
   ]
  },
  {
   "cell_type": "code",
   "execution_count": 84,
   "id": "a506e08c",
   "metadata": {},
   "outputs": [
    {
     "name": "stdout",
     "output_type": "stream",
     "text": [
      "1/1 [==============================] - 0s 47ms/step\n"
     ]
    },
    {
     "data": {
      "text/plain": [
       "array([[1.2754528e-02, 7.6867000e-06, 9.3002185e-02, 9.7073931e-01,\n",
       "        1.7492195e-05, 9.9192739e-01, 4.0419078e-08, 8.1126448e-03,\n",
       "        1.8294271e-02, 3.7575178e-03]], dtype=float32)"
      ]
     },
     "execution_count": 84,
     "metadata": {},
     "output_type": "execute_result"
    }
   ],
   "source": [
    "model.predict(X_train_reshaped[[0]])"
   ]
  },
  {
   "cell_type": "code",
   "execution_count": 85,
   "id": "c7247150",
   "metadata": {},
   "outputs": [
    {
     "name": "stdout",
     "output_type": "stream",
     "text": [
      "1/1 [==============================] - 0s 25ms/step\n"
     ]
    }
   ],
   "source": [
    "chances = model.predict(X_train_reshaped[[0]])"
   ]
  },
  {
   "cell_type": "code",
   "execution_count": 86,
   "id": "3ed52dee",
   "metadata": {},
   "outputs": [
    {
     "data": {
      "text/plain": [
       "0.9919274"
      ]
     },
     "execution_count": 86,
     "metadata": {},
     "output_type": "execute_result"
    }
   ],
   "source": [
    "import numpy as np\n",
    "np.max(chances)"
   ]
  },
  {
   "cell_type": "code",
   "execution_count": 87,
   "id": "95926628",
   "metadata": {},
   "outputs": [
    {
     "data": {
      "text/plain": [
       "5"
      ]
     },
     "execution_count": 87,
     "metadata": {},
     "output_type": "execute_result"
    }
   ],
   "source": [
    "np.argmax(chances)"
   ]
  },
  {
   "cell_type": "code",
   "execution_count": 88,
   "id": "b60f713c",
   "metadata": {},
   "outputs": [
    {
     "data": {
      "text/plain": [
       "array([[6, 1, 4, 9, 7, 0, 8, 2, 3, 5]], dtype=int64)"
      ]
     },
     "execution_count": 88,
     "metadata": {},
     "output_type": "execute_result"
    }
   ],
   "source": [
    "np.argsort(chances)"
   ]
  },
  {
   "cell_type": "code",
   "execution_count": null,
   "id": "d3e44c3a",
   "metadata": {},
   "outputs": [],
   "source": []
  },
  {
   "cell_type": "code",
   "execution_count": 2,
   "id": "e5c93755",
   "metadata": {},
   "outputs": [],
   "source": [
    "import matplotlib.pyplot as plt"
   ]
  },
  {
   "cell_type": "code",
   "execution_count": 3,
   "id": "79053ac6",
   "metadata": {},
   "outputs": [],
   "source": [
    "my_image = plt.imread(r\"C:\\Users\\Lenovo\\Downloads\\WhatsApp Image 2024-09-01 at 11.18.53 AM.jpeg\")\n",
    "\n",
    "test_image = my_image.copy()"
   ]
  },
  {
   "cell_type": "code",
   "execution_count": 95,
   "id": "0a8a2a63",
   "metadata": {},
   "outputs": [
    {
     "data": {
      "text/plain": [
       "(28, 28, 3)"
      ]
     },
     "execution_count": 95,
     "metadata": {},
     "output_type": "execute_result"
    }
   ],
   "source": [
    "test_image.shape"
   ]
  },
  {
   "cell_type": "code",
   "execution_count": 101,
   "id": "2bbebe3a",
   "metadata": {},
   "outputs": [
    {
     "data": {
      "text/plain": [
       "<matplotlib.image.AxesImage at 0x20b1f8fdc90>"
      ]
     },
     "execution_count": 101,
     "metadata": {},
     "output_type": "execute_result"
    },
    {
     "data": {
      "image/png": "[encoded data removed]",
      "text/plain": [
       "<Figure size 640x480 with 1 Axes>"
      ]
     },
     "metadata": {},
     "output_type": "display_data"
    }
   ],
   "source": [
    "plt.gray()\n",
    "plt.imshow(test_image[:,:,0])"
   ]
  },
  {
   "cell_type": "code",
   "execution_count": 109,
   "id": "f1198faa",
   "metadata": {},
   "outputs": [],
   "source": [
    "test_array = test_image[:,:,0]"
   ]
  },
  {
   "cell_type": "code",
   "execution_count": 111,
   "id": "bd815a63",
   "metadata": {},
   "outputs": [],
   "source": [
    "final_array = test_array.flatten()"
   ]
  },
  {
   "cell_type": "code",
   "execution_count": 112,
   "id": "c7023e4e",
   "metadata": {
    "scrolled": true
   },
   "outputs": [
    {
     "data": {
      "text/plain": [
       "(784,)"
      ]
     },
     "execution_count": 112,
     "metadata": {},
     "output_type": "execute_result"
    }
   ],
   "source": [
    "final_array.shape"
   ]
  },
  {
   "cell_type": "code",
   "execution_count": 115,
   "id": "19f4f7b6",
   "metadata": {},
   "outputs": [],
   "source": [
    "final_array = final_array/255"
   ]
  },
  {
   "cell_type": "code",
   "execution_count": 116,
   "id": "13ebaa4c",
   "metadata": {},
   "outputs": [
    {
     "data": {
      "text/plain": [
       "(784,)"
      ]
     },
     "execution_count": 116,
     "metadata": {},
     "output_type": "execute_result"
    }
   ],
   "source": [
    "final_array.shape"
   ]
  },
  {
   "cell_type": "code",
   "execution_count": 106,
   "id": "5367473f",
   "metadata": {},
   "outputs": [
    {
     "data": {
      "text/plain": [
       "(784,)"
      ]
     },
     "execution_count": 106,
     "metadata": {},
     "output_type": "execute_result"
    }
   ],
   "source": [
    "X_train_reshaped[0].shape"
   ]
  },
  {
   "cell_type": "code",
   "execution_count": 117,
   "id": "8d117c11",
   "metadata": {},
   "outputs": [
    {
     "name": "stdout",
     "output_type": "stream",
     "text": [
      "1/1 [==============================] - 0s 24ms/step\n"
     ]
    },
    {
     "data": {
      "text/plain": [
       "array([[1.2754528e-02, 7.6867000e-06, 9.3002185e-02, 9.7073931e-01,\n",
       "        1.7492195e-05, 9.9192739e-01, 4.0419078e-08, 8.1126448e-03,\n",
       "        1.8294271e-02, 3.7575178e-03]], dtype=float32)"
      ]
     },
     "execution_count": 117,
     "metadata": {},
     "output_type": "execute_result"
    }
   ],
   "source": [
    "model.predict(X_train_reshaped[[0]])"
   ]
  },
  {
   "cell_type": "code",
   "execution_count": 123,
   "id": "386e96b3",
   "metadata": {},
   "outputs": [
    {
     "data": {
      "text/plain": [
       "array([[0.        , 0.        , 0.        , 0.        , 0.        ,\n",
       "        0.        , 0.        , 0.        , 0.        , 0.        ,\n",
       "        0.        , 0.        , 0.        , 0.        , 0.        ,\n",
       "        0.        , 0.        , 0.        , 0.        , 0.        ,\n",
       "        0.        , 0.        , 0.        , 0.        , 0.        ,\n",
       "        0.        , 0.        , 0.        , 0.        , 0.        ,\n",
       "        0.        , 0.        , 0.        , 0.        , 0.        ,\n",
       "        0.        , 0.        , 0.        , 0.        , 0.        ,\n",
       "        0.        , 0.        , 0.        , 0.        , 0.        ,\n",
       "        0.        , 0.        , 0.        , 0.        , 0.        ,\n",
       "        0.        , 0.        , 0.        , 0.        , 0.        ,\n",
       "        0.        , 0.        , 0.        , 0.        , 0.        ,\n",
       "        0.        , 0.        , 0.        , 0.        , 0.        ,\n",
       "        0.        , 0.        , 0.        , 0.        , 0.        ,\n",
       "        0.        , 0.        , 0.        , 0.        , 0.        ,\n",
       "        0.        , 0.        , 0.        , 0.        , 0.        ,\n",
       "        0.        , 0.        , 0.        , 0.        , 0.        ,\n",
       "        0.        , 0.        , 0.        , 0.        , 0.        ,\n",
       "        0.        , 0.        , 0.        , 0.        , 0.        ,\n",
       "        0.        , 0.        , 0.        , 0.        , 0.        ,\n",
       "        0.        , 0.        , 0.        , 0.        , 0.        ,\n",
       "        0.        , 0.        , 0.        , 0.        , 0.        ,\n",
       "        0.        , 0.        , 0.        , 0.        , 0.        ,\n",
       "        0.        , 0.        , 0.        , 0.        , 0.        ,\n",
       "        0.        , 0.        , 0.        , 0.        , 0.        ,\n",
       "        0.        , 0.        , 0.        , 0.        , 0.        ,\n",
       "        0.        , 0.        , 0.        , 0.        , 0.        ,\n",
       "        0.        , 0.        , 0.        , 0.        , 0.        ,\n",
       "        0.        , 0.        , 0.        , 0.        , 0.        ,\n",
       "        0.        , 0.        , 0.        , 0.        , 0.        ,\n",
       "        0.        , 0.        , 0.01176471, 0.07058824, 0.07058824,\n",
       "        0.07058824, 0.49411765, 0.53333333, 0.68627451, 0.10196078,\n",
       "        0.65098039, 1.        , 0.96862745, 0.49803922, 0.        ,\n",
       "        0.        , 0.        , 0.        , 0.        , 0.        ,\n",
       "        0.        , 0.        , 0.        , 0.        , 0.        ,\n",
       "        0.        , 0.11764706, 0.14117647, 0.36862745, 0.60392157,\n",
       "        0.66666667, 0.99215686, 0.99215686, 0.99215686, 0.99215686,\n",
       "        0.99215686, 0.88235294, 0.6745098 , 0.99215686, 0.94901961,\n",
       "        0.76470588, 0.25098039, 0.        , 0.        , 0.        ,\n",
       "        0.        , 0.        , 0.        , 0.        , 0.        ,\n",
       "        0.        , 0.        , 0.        , 0.19215686, 0.93333333,\n",
       "        0.99215686, 0.99215686, 0.99215686, 0.99215686, 0.99215686,\n",
       "        0.99215686, 0.99215686, 0.99215686, 0.98431373, 0.36470588,\n",
       "        0.32156863, 0.32156863, 0.21960784, 0.15294118, 0.        ,\n",
       "        0.        , 0.        , 0.        , 0.        , 0.        ,\n",
       "        0.        , 0.        , 0.        , 0.        , 0.        ,\n",
       "        0.        , 0.07058824, 0.85882353, 0.99215686, 0.99215686,\n",
       "        0.99215686, 0.99215686, 0.99215686, 0.77647059, 0.71372549,\n",
       "        0.96862745, 0.94509804, 0.        , 0.        , 0.        ,\n",
       "        0.        , 0.        , 0.        , 0.        , 0.        ,\n",
       "        0.        , 0.        , 0.        , 0.        , 0.        ,\n",
       "        0.        , 0.        , 0.        , 0.        , 0.        ,\n",
       "        0.31372549, 0.61176471, 0.41960784, 0.99215686, 0.99215686,\n",
       "        0.80392157, 0.04313725, 0.        , 0.16862745, 0.60392157,\n",
       "        0.        , 0.        , 0.        , 0.        , 0.        ,\n",
       "        0.        , 0.        , 0.        , 0.        , 0.        ,\n",
       "        0.        , 0.        , 0.        , 0.        , 0.        ,\n",
       "        0.        , 0.        , 0.        , 0.        , 0.05490196,\n",
       "        0.00392157, 0.60392157, 0.99215686, 0.35294118, 0.        ,\n",
       "        0.        , 0.        , 0.        , 0.        , 0.        ,\n",
       "        0.        , 0.        , 0.        , 0.        , 0.        ,\n",
       "        0.        , 0.        , 0.        , 0.        , 0.        ,\n",
       "        0.        , 0.        , 0.        , 0.        , 0.        ,\n",
       "        0.        , 0.        , 0.        , 0.        , 0.54509804,\n",
       "        0.99215686, 0.74509804, 0.00784314, 0.        , 0.        ,\n",
       "        0.        , 0.        , 0.        , 0.        , 0.        ,\n",
       "        0.        , 0.        , 0.        , 0.        , 0.        ,\n",
       "        0.        , 0.        , 0.        , 0.        , 0.        ,\n",
       "        0.        , 0.        , 0.        , 0.        , 0.        ,\n",
       "        0.        , 0.        , 0.04313725, 0.74509804, 0.99215686,\n",
       "        0.2745098 , 0.        , 0.        , 0.        , 0.        ,\n",
       "        0.        , 0.        , 0.        , 0.        , 0.        ,\n",
       "        0.        , 0.        , 0.        , 0.        , 0.        ,\n",
       "        0.        , 0.        , 0.        , 0.        , 0.        ,\n",
       "        0.        , 0.        , 0.        , 0.        , 0.        ,\n",
       "        0.        , 0.1372549 , 0.94509804, 0.88235294, 0.62745098,\n",
       "        0.42352941, 0.00392157, 0.        , 0.        , 0.        ,\n",
       "        0.        , 0.        , 0.        , 0.        , 0.        ,\n",
       "        0.        , 0.        , 0.        , 0.        , 0.        ,\n",
       "        0.        , 0.        , 0.        , 0.        , 0.        ,\n",
       "        0.        , 0.        , 0.        , 0.        , 0.        ,\n",
       "        0.31764706, 0.94117647, 0.99215686, 0.99215686, 0.46666667,\n",
       "        0.09803922, 0.        , 0.        , 0.        , 0.        ,\n",
       "        0.        , 0.        , 0.        , 0.        , 0.        ,\n",
       "        0.        , 0.        , 0.        , 0.        , 0.        ,\n",
       "        0.        , 0.        , 0.        , 0.        , 0.        ,\n",
       "        0.        , 0.        , 0.        , 0.        , 0.17647059,\n",
       "        0.72941176, 0.99215686, 0.99215686, 0.58823529, 0.10588235,\n",
       "        0.        , 0.        , 0.        , 0.        , 0.        ,\n",
       "        0.        , 0.        , 0.        , 0.        , 0.        ,\n",
       "        0.        , 0.        , 0.        , 0.        , 0.        ,\n",
       "        0.        , 0.        , 0.        , 0.        , 0.        ,\n",
       "        0.        , 0.        , 0.        , 0.0627451 , 0.36470588,\n",
       "        0.98823529, 0.99215686, 0.73333333, 0.        , 0.        ,\n",
       "        0.        , 0.        , 0.        , 0.        , 0.        ,\n",
       "        0.        , 0.        , 0.        , 0.        , 0.        ,\n",
       "        0.        , 0.        , 0.        , 0.        , 0.        ,\n",
       "        0.        , 0.        , 0.        , 0.        , 0.        ,\n",
       "        0.        , 0.        , 0.        , 0.97647059, 0.99215686,\n",
       "        0.97647059, 0.25098039, 0.        , 0.        , 0.        ,\n",
       "        0.        , 0.        , 0.        , 0.        , 0.        ,\n",
       "        0.        , 0.        , 0.        , 0.        , 0.        ,\n",
       "        0.        , 0.        , 0.        , 0.        , 0.        ,\n",
       "        0.        , 0.        , 0.        , 0.18039216, 0.50980392,\n",
       "        0.71764706, 0.99215686, 0.99215686, 0.81176471, 0.00784314,\n",
       "        0.        , 0.        , 0.        , 0.        , 0.        ,\n",
       "        0.        , 0.        , 0.        , 0.        , 0.        ,\n",
       "        0.        , 0.        , 0.        , 0.        , 0.        ,\n",
       "        0.        , 0.        , 0.        , 0.        , 0.15294118,\n",
       "        0.58039216, 0.89803922, 0.99215686, 0.99215686, 0.99215686,\n",
       "        0.98039216, 0.71372549, 0.        , 0.        , 0.        ,\n",
       "        0.        , 0.        , 0.        , 0.        , 0.        ,\n",
       "        0.        , 0.        , 0.        , 0.        , 0.        ,\n",
       "        0.        , 0.        , 0.        , 0.        , 0.        ,\n",
       "        0.09411765, 0.44705882, 0.86666667, 0.99215686, 0.99215686,\n",
       "        0.99215686, 0.99215686, 0.78823529, 0.30588235, 0.        ,\n",
       "        0.        , 0.        , 0.        , 0.        , 0.        ,\n",
       "        0.        , 0.        , 0.        , 0.        , 0.        ,\n",
       "        0.        , 0.        , 0.        , 0.        , 0.        ,\n",
       "        0.        , 0.09019608, 0.25882353, 0.83529412, 0.99215686,\n",
       "        0.99215686, 0.99215686, 0.99215686, 0.77647059, 0.31764706,\n",
       "        0.00784314, 0.        , 0.        , 0.        , 0.        ,\n",
       "        0.        , 0.        , 0.        , 0.        , 0.        ,\n",
       "        0.        , 0.        , 0.        , 0.        , 0.        ,\n",
       "        0.        , 0.        , 0.07058824, 0.67058824, 0.85882353,\n",
       "        0.99215686, 0.99215686, 0.99215686, 0.99215686, 0.76470588,\n",
       "        0.31372549, 0.03529412, 0.        , 0.        , 0.        ,\n",
       "        0.        , 0.        , 0.        , 0.        , 0.        ,\n",
       "        0.        , 0.        , 0.        , 0.        , 0.        ,\n",
       "        0.        , 0.        , 0.        , 0.21568627, 0.6745098 ,\n",
       "        0.88627451, 0.99215686, 0.99215686, 0.99215686, 0.99215686,\n",
       "        0.95686275, 0.52156863, 0.04313725, 0.        , 0.        ,\n",
       "        0.        , 0.        , 0.        , 0.        , 0.        ,\n",
       "        0.        , 0.        , 0.        , 0.        , 0.        ,\n",
       "        0.        , 0.        , 0.        , 0.        , 0.        ,\n",
       "        0.        , 0.53333333, 0.99215686, 0.99215686, 0.99215686,\n",
       "        0.83137255, 0.52941176, 0.51764706, 0.0627451 , 0.        ,\n",
       "        0.        , 0.        , 0.        , 0.        , 0.        ,\n",
       "        0.        , 0.        , 0.        , 0.        , 0.        ,\n",
       "        0.        , 0.        , 0.        , 0.        , 0.        ,\n",
       "        0.        , 0.        , 0.        , 0.        , 0.        ,\n",
       "        0.        , 0.        , 0.        , 0.        , 0.        ,\n",
       "        0.        , 0.        , 0.        , 0.        , 0.        ,\n",
       "        0.        , 0.        , 0.        , 0.        , 0.        ,\n",
       "        0.        , 0.        , 0.        , 0.        , 0.        ,\n",
       "        0.        , 0.        , 0.        , 0.        , 0.        ,\n",
       "        0.        , 0.        , 0.        , 0.        , 0.        ,\n",
       "        0.        , 0.        , 0.        , 0.        , 0.        ,\n",
       "        0.        , 0.        , 0.        , 0.        , 0.        ,\n",
       "        0.        , 0.        , 0.        , 0.        , 0.        ,\n",
       "        0.        , 0.        , 0.        , 0.        , 0.        ,\n",
       "        0.        , 0.        , 0.        , 0.        , 0.        ,\n",
       "        0.        , 0.        , 0.        , 0.        , 0.        ,\n",
       "        0.        , 0.        , 0.        , 0.        , 0.        ,\n",
       "        0.        , 0.        , 0.        , 0.        , 0.        ,\n",
       "        0.        , 0.        , 0.        , 0.        , 0.        ,\n",
       "        0.        , 0.        , 0.        , 0.        ]])"
      ]
     },
     "execution_count": 123,
     "metadata": {},
     "output_type": "execute_result"
    }
   ],
   "source": [
    "X_train_reshaped[[0]]"
   ]
  },
  {
   "cell_type": "code",
   "execution_count": 126,
   "id": "6963eee4",
   "metadata": {},
   "outputs": [
    {
     "data": {
      "text/plain": [
       "array([[0.82352941, 0.80392157, 0.81176471, 0.82352941, 0.78823529,\n",
       "        0.75686275, 0.75686275, 0.75686275, 0.76470588, 0.75294118,\n",
       "        0.78431373, 0.76078431, 0.77254902, 0.78039216, 0.76470588,\n",
       "        0.75294118, 0.74509804, 0.76078431, 0.76078431, 0.76078431,\n",
       "        0.76470588, 0.75686275, 0.74509804, 0.74901961, 0.74509804,\n",
       "        0.74901961, 0.74901961, 0.74901961, 0.80784314, 0.8       ,\n",
       "        0.8       , 0.8       , 0.78039216, 0.76078431, 0.76078431,\n",
       "        0.76078431, 0.75686275, 0.78823529, 0.76862745, 0.77254902,\n",
       "        0.77647059, 0.76862745, 0.78039216, 0.76470588, 0.76470588,\n",
       "        0.77254902, 0.76470588, 0.76078431, 0.76078431, 0.75294118,\n",
       "        0.74117647, 0.74509804, 0.76470588, 0.76078431, 0.76078431,\n",
       "        0.75686275, 0.78823529, 0.79607843, 0.78823529, 0.78039216,\n",
       "        0.78039216, 0.77647059, 0.76470588, 0.76078431, 0.78039216,\n",
       "        0.78039216, 0.74901961, 0.79215686, 0.76078431, 0.74509804,\n",
       "        0.77254902, 0.76078431, 0.77254902, 0.77254902, 0.76470588,\n",
       "        0.76078431, 0.75686275, 0.75686275, 0.75294118, 0.76078431,\n",
       "        0.77254902, 0.76470588, 0.75294118, 0.74509804, 0.78039216,\n",
       "        0.79215686, 0.78823529, 0.78039216, 0.78823529, 0.78039216,\n",
       "        0.76470588, 0.76470588, 0.76862745, 0.78039216, 0.77647059,\n",
       "        0.77254902, 0.76862745, 0.77647059, 0.77254902, 0.76862745,\n",
       "        0.77647059, 0.77254902, 0.76470588, 0.76470588, 0.75686275,\n",
       "        0.76078431, 0.76470588, 0.77254902, 0.77647059, 0.76862745,\n",
       "        0.75686275, 0.75294118, 0.79215686, 0.79215686, 0.78823529,\n",
       "        0.78431373, 0.78823529, 0.77647059, 0.76078431, 0.77254902,\n",
       "        0.76862745, 0.77254902, 0.77647059, 0.76862745, 0.79607843,\n",
       "        0.76470588, 0.74509804, 0.76078431, 0.77647059, 0.77254902,\n",
       "        0.77254902, 0.76862745, 0.75686275, 0.75294118, 0.76470588,\n",
       "        0.77254902, 0.76862745, 0.76078431, 0.75686275, 0.75686275,\n",
       "        0.80392157, 0.80392157, 0.78431373, 0.78039216, 0.77647059,\n",
       "        0.76862745, 0.76470588, 0.77254902, 0.77647059, 0.75686275,\n",
       "        0.78039216, 0.79607843, 0.78823529, 0.75294118, 0.79215686,\n",
       "        0.77254902, 0.76862745, 0.76862745, 0.77254902, 0.77254902,\n",
       "        0.75686275, 0.75294118, 0.76470588, 0.77254902, 0.76078431,\n",
       "        0.75686275, 0.75686275, 0.75294118, 0.80784314, 0.8       ,\n",
       "        0.78823529, 0.77647059, 0.76862745, 0.77254902, 0.77254902,\n",
       "        0.76470588, 0.79215686, 0.75686275, 0.73333333, 0.69019608,\n",
       "        0.65882353, 0.69411765, 0.78039216, 0.81960784, 0.78039216,\n",
       "        0.76862745, 0.77254902, 0.77647059, 0.76078431, 0.76078431,\n",
       "        0.77254902, 0.77254902, 0.76862745, 0.76862745, 0.76470588,\n",
       "        0.76078431, 0.8       , 0.8       , 0.78823529, 0.77647059,\n",
       "        0.76470588, 0.78431373, 0.78431373, 0.74901961, 0.67058824,\n",
       "        0.65098039, 0.64705882, 0.65490196, 0.64705882, 0.53333333,\n",
       "        0.43137255, 0.63137255, 0.80784314, 0.78431373, 0.78039216,\n",
       "        0.78431373, 0.76470588, 0.76470588, 0.76862745, 0.76470588,\n",
       "        0.76078431, 0.76078431, 0.75686275, 0.75686275, 0.8       ,\n",
       "        0.78823529, 0.80392157, 0.77254902, 0.79215686, 0.76078431,\n",
       "        0.65490196, 0.64313725, 0.72156863, 0.77254902, 0.80784314,\n",
       "        0.79607843, 0.81568627, 0.81568627, 0.71764706, 0.34117647,\n",
       "        0.62352941, 0.81568627, 0.79607843, 0.77254902, 0.76862745,\n",
       "        0.77647059, 0.75294118, 0.76470588, 0.76470588, 0.76078431,\n",
       "        0.75294118, 0.74901961, 0.78823529, 0.80784314, 0.78431373,\n",
       "        0.78823529, 0.7254902 , 0.58039216, 0.70588235, 0.78823529,\n",
       "        0.78431373, 0.79215686, 0.77254902, 0.78823529, 0.77254902,\n",
       "        0.8       , 0.82352941, 0.57647059, 0.36078431, 0.83137255,\n",
       "        0.79607843, 0.78431373, 0.76078431, 0.77254902, 0.76862745,\n",
       "        0.76862745, 0.76078431, 0.75686275, 0.75294118, 0.74509804,\n",
       "        0.8       , 0.77647059, 0.79607843, 0.76470588, 0.58431373,\n",
       "        0.70196078, 0.78039216, 0.78823529, 0.77254902, 0.79215686,\n",
       "        0.78431373, 0.79215686, 0.78823529, 0.76078431, 0.84313725,\n",
       "        0.57254902, 0.38039216, 0.85098039, 0.77647059, 0.78823529,\n",
       "        0.77254902, 0.76078431, 0.76078431, 0.76862745, 0.76078431,\n",
       "        0.76078431, 0.75294118, 0.74901961, 0.79607843, 0.8       ,\n",
       "        0.81176471, 0.63921569, 0.58431373, 0.80392157, 0.77254902,\n",
       "        0.77254902, 0.77647059, 0.77254902, 0.77647059, 0.79215686,\n",
       "        0.76862745, 0.8       , 0.78823529, 0.34117647, 0.67058824,\n",
       "        0.84313725, 0.78039216, 0.77254902, 0.77254902, 0.75686275,\n",
       "        0.75294118, 0.75686275, 0.75686275, 0.75294118, 0.74901961,\n",
       "        0.74509804, 0.78431373, 0.79607843, 0.81568627, 0.55294118,\n",
       "        0.56078431, 0.82745098, 0.79215686, 0.77254902, 0.77254902,\n",
       "        0.78039216, 0.78039216, 0.78431373, 0.78823529, 0.82352941,\n",
       "        0.4627451 , 0.54117647, 0.81568627, 0.80392157, 0.8       ,\n",
       "        0.76078431, 0.75294118, 0.76862745, 0.75686275, 0.74117647,\n",
       "        0.74509804, 0.74509804, 0.7372549 , 0.73333333, 0.79215686,\n",
       "        0.77254902, 0.80392157, 0.70196078, 0.34901961, 0.7254902 ,\n",
       "        0.82745098, 0.79607843, 0.77647059, 0.77254902, 0.78039216,\n",
       "        0.81568627, 0.76078431, 0.50588235, 0.57647059, 0.80392157,\n",
       "        0.79607843, 0.78431373, 0.78431373, 0.77647059, 0.75686275,\n",
       "        0.77254902, 0.75686275, 0.74117647, 0.74117647, 0.74117647,\n",
       "        0.73333333, 0.72941176, 0.78039216, 0.77254902, 0.8       ,\n",
       "        0.80392157, 0.63921569, 0.38823529, 0.4745098 , 0.64705882,\n",
       "        0.76078431, 0.78823529, 0.81176471, 0.6627451 , 0.54117647,\n",
       "        0.67843137, 0.8       , 0.78431373, 0.78039216, 0.78431373,\n",
       "        0.76862745, 0.78431373, 0.77254902, 0.76078431, 0.75294118,\n",
       "        0.74901961, 0.74509804, 0.74117647, 0.7372549 , 0.73333333,\n",
       "        0.78431373, 0.77647059, 0.79215686, 0.79215686, 0.81176471,\n",
       "        0.75686275, 0.58039216, 0.50196078, 0.79215686, 0.75686275,\n",
       "        0.60784314, 0.60392157, 0.76470588, 0.79607843, 0.77254902,\n",
       "        0.77647059, 0.77254902, 0.77647059, 0.77647059, 0.77254902,\n",
       "        0.76862745, 0.74509804, 0.76078431, 0.74117647, 0.74117647,\n",
       "        0.7372549 , 0.73333333, 0.72941176, 0.78039216, 0.78823529,\n",
       "        0.78431373, 0.76862745, 0.79215686, 0.81176471, 0.84705882,\n",
       "        0.81568627, 0.65098039, 0.62745098, 0.72941176, 0.83921569,\n",
       "        0.81960784, 0.79215686, 0.80392157, 0.78039216, 0.78431373,\n",
       "        0.78431373, 0.78039216, 0.78039216, 0.77254902, 0.76078431,\n",
       "        0.75294118, 0.7372549 , 0.73333333, 0.7254902 , 0.71764706,\n",
       "        0.72941176, 0.79607843, 0.80392157, 0.76470588, 0.81568627,\n",
       "        0.83137255, 0.78431373, 0.58431373, 0.4627451 , 0.56862745,\n",
       "        0.64705882, 0.69411765, 0.67058824, 0.67058824, 0.69019608,\n",
       "        0.69411765, 0.68627451, 0.69803922, 0.69803922, 0.69803922,\n",
       "        0.70980392, 0.7254902 , 0.73333333, 0.7372549 , 0.73333333,\n",
       "        0.76470588, 0.75294118, 0.76078431, 0.7254902 , 0.78823529,\n",
       "        0.78431373, 0.78823529, 0.71764706, 0.50196078, 0.44313725,\n",
       "        0.41960784, 0.5254902 , 0.57647059, 0.57254902, 0.57254902,\n",
       "        0.59215686, 0.63137255, 0.63529412, 0.62745098, 0.63921569,\n",
       "        0.61960784, 0.60784314, 0.59215686, 0.57647059, 0.56470588,\n",
       "        0.54509804, 0.5254902 , 0.51372549, 0.51372549, 0.5372549 ,\n",
       "        0.69019608, 0.76862745, 0.78039216, 0.78039216, 0.83137255,\n",
       "        0.59215686, 0.51764706, 0.75294118, 0.8       , 0.82745098,\n",
       "        0.83529412, 0.81960784, 0.81568627, 0.82745098, 0.82745098,\n",
       "        0.81176471, 0.80392157, 0.80784314, 0.80784314, 0.8       ,\n",
       "        0.79215686, 0.79215686, 0.78823529, 0.78039216, 0.76470588,\n",
       "        0.74901961, 0.67843137, 0.52156863, 0.61176471, 0.76470588,\n",
       "        0.8       , 0.77254902, 0.75686275, 0.79215686, 0.82352941,\n",
       "        0.78823529, 0.8       , 0.77647059, 0.76078431, 0.79607843,\n",
       "        0.78823529, 0.77254902, 0.78039216, 0.77254902, 0.77647059,\n",
       "        0.79607843, 0.77254902, 0.77254902, 0.77254902, 0.77647059,\n",
       "        0.77254902, 0.76862745, 0.75686275, 0.74901961, 0.74509804,\n",
       "        0.79215686, 0.76862745, 0.72941176, 0.78823529, 0.77647059,\n",
       "        0.77647059, 0.78823529, 0.77647059, 0.78431373, 0.77647059,\n",
       "        0.78039216, 0.79215686, 0.77254902, 0.76862745, 0.78431373,\n",
       "        0.78823529, 0.77254902, 0.77254902, 0.77647059, 0.76470588,\n",
       "        0.76470588, 0.76078431, 0.76078431, 0.76078431, 0.75686275,\n",
       "        0.75294118, 0.74509804, 0.74509804, 0.74509804, 0.7372549 ,\n",
       "        0.74117647, 0.79215686, 0.78823529, 0.78039216, 0.79215686,\n",
       "        0.75294118, 0.78431373, 0.79607843, 0.78039216, 0.77647059,\n",
       "        0.77647059, 0.79215686, 0.78823529, 0.77647059, 0.78431373,\n",
       "        0.79215686, 0.76470588, 0.77647059, 0.77647059, 0.76862745,\n",
       "        0.76470588, 0.75686275, 0.75294118, 0.74901961, 0.74509804,\n",
       "        0.74901961, 0.72941176, 0.7254902 , 0.7254902 , 0.78823529,\n",
       "        0.81176471, 0.76078431, 0.78431373, 0.78823529, 0.77254902,\n",
       "        0.78039216, 0.77647059, 0.77254902, 0.79215686, 0.76862745,\n",
       "        0.75294118, 0.78431373, 0.77647059, 0.76078431, 0.78431373,\n",
       "        0.76078431, 0.76862745, 0.76470588, 0.76078431, 0.75686275,\n",
       "        0.74509804, 0.7372549 , 0.73333333, 0.7372549 , 0.7254902 ,\n",
       "        0.74117647, 0.71764706, 0.79215686, 0.79215686, 0.78431373,\n",
       "        0.77647059, 0.78039216, 0.78431373, 0.78431373, 0.78039216,\n",
       "        0.77647059, 0.77254902, 0.76862745, 0.76470588, 0.76470588,\n",
       "        0.76470588, 0.76862745, 0.77254902, 0.77254902, 0.76470588,\n",
       "        0.76078431, 0.76078431, 0.74901961, 0.74117647, 0.7372549 ,\n",
       "        0.74117647, 0.7372549 , 0.73333333, 0.72941176, 0.7254902 ,\n",
       "        0.79215686, 0.78823529, 0.78431373, 0.77647059, 0.78039216,\n",
       "        0.78039216, 0.78039216, 0.77254902, 0.76078431, 0.75686275,\n",
       "        0.75294118, 0.74901961, 0.74901961, 0.74901961, 0.75294118,\n",
       "        0.75686275, 0.75294118, 0.74901961, 0.74901961, 0.74901961,\n",
       "        0.7372549 , 0.73333333, 0.72941176, 0.72941176, 0.73333333,\n",
       "        0.72941176, 0.7254902 , 0.72156863, 0.78823529, 0.78431373,\n",
       "        0.78039216, 0.77647059, 0.77647059, 0.77647059, 0.76470588,\n",
       "        0.75686275, 0.7372549 , 0.7372549 , 0.7372549 , 0.73333333,\n",
       "        0.73333333, 0.7372549 , 0.74117647, 0.74117647, 0.74509804,\n",
       "        0.74117647, 0.74117647, 0.74509804, 0.74117647, 0.7372549 ,\n",
       "        0.72941176, 0.72941176, 0.72941176, 0.7254902 , 0.72156863,\n",
       "        0.72156863, 0.78431373, 0.78431373, 0.78039216, 0.77647059,\n",
       "        0.77647059, 0.77254902, 0.75686275, 0.74901961, 0.7372549 ,\n",
       "        0.73333333, 0.7372549 , 0.72941176, 0.72941176, 0.7372549 ,\n",
       "        0.7372549 , 0.7372549 , 0.74117647, 0.74117647, 0.74509804,\n",
       "        0.74509804, 0.74509804, 0.74509804, 0.73333333, 0.73333333,\n",
       "        0.7254902 , 0.72156863, 0.72156863, 0.71764706]])"
      ]
     },
     "execution_count": 126,
     "metadata": {},
     "output_type": "execute_result"
    }
   ],
   "source": [
    "np.expand_dims(final_array,0)"
   ]
  },
  {
   "cell_type": "code",
   "execution_count": 128,
   "id": "4645f959",
   "metadata": {},
   "outputs": [
    {
     "name": "stdout",
     "output_type": "stream",
     "text": [
      "1/1 [==============================] - 0s 18ms/step\n"
     ]
    }
   ],
   "source": [
    "test_prob = model.predict(np.expand_dims(final_array,0))"
   ]
  },
  {
   "cell_type": "code",
   "execution_count": 129,
   "id": "7044be3c",
   "metadata": {},
   "outputs": [
    {
     "data": {
      "text/plain": [
       "1.5934804e-28"
      ]
     },
     "execution_count": 129,
     "metadata": {},
     "output_type": "execute_result"
    }
   ],
   "source": [
    "np.max(test_prob)"
   ]
  },
  {
   "cell_type": "code",
   "execution_count": 130,
   "id": "a4b601ba",
   "metadata": {},
   "outputs": [
    {
     "data": {
      "text/plain": [
       "2"
      ]
     },
     "execution_count": 130,
     "metadata": {},
     "output_type": "execute_result"
    }
   ],
   "source": [
    "np.argmax(test_prob)"
   ]
  },
  {
   "cell_type": "code",
   "execution_count": 131,
   "id": "f7d6ecd7",
   "metadata": {},
   "outputs": [
    {
     "data": {
      "text/plain": [
       "array([[0, 1, 3, 4, 6, 7, 8, 9, 5, 2]], dtype=int64)"
      ]
     },
     "execution_count": 131,
     "metadata": {},
     "output_type": "execute_result"
    }
   ],
   "source": [
    "np.argsort(test_prob)"
   ]
  },
  {
   "cell_type": "code",
   "execution_count": null,
   "id": "14a87aef",
   "metadata": {},
   "outputs": [],
   "source": []
  },
  {
   "cell_type": "code",
   "execution_count": null,
   "id": "8444a5ca",
   "metadata": {},
   "outputs": [],
   "source": []
  },
  {
   "cell_type": "code",
   "execution_count": 132,
   "id": "f32be2dd",
   "metadata": {},
   "outputs": [
    {
     "name": "stdout",
     "output_type": "stream",
     "text": [
      "Epoch 1/20\n",
      "1500/1500 [==============================] - 29s 18ms/step - loss: 0.6841 - accuracy: 0.7916 - val_loss: 0.2331 - val_accuracy: 0.9402\n",
      "Epoch 2/20\n",
      "1500/1500 [==============================] - 28s 19ms/step - loss: 0.1900 - accuracy: 0.9485 - val_loss: 0.1534 - val_accuracy: 0.9590\n",
      "Epoch 3/20\n",
      "1500/1500 [==============================] - 30s 20ms/step - loss: 0.1224 - accuracy: 0.9676 - val_loss: 0.1150 - val_accuracy: 0.9689\n",
      "Epoch 4/20\n",
      "1500/1500 [==============================] - 31s 21ms/step - loss: 0.0905 - accuracy: 0.9744 - val_loss: 0.1401 - val_accuracy: 0.9623\n",
      "Epoch 5/20\n",
      "1500/1500 [==============================] - 29s 19ms/step - loss: 0.0687 - accuracy: 0.9812 - val_loss: 0.1075 - val_accuracy: 0.9717\n",
      "Epoch 6/20\n",
      "1500/1500 [==============================] - 29s 19ms/step - loss: 0.0528 - accuracy: 0.9854 - val_loss: 0.0911 - val_accuracy: 0.9753\n",
      "Epoch 7/20\n",
      "1500/1500 [==============================] - 28s 19ms/step - loss: 0.0433 - accuracy: 0.9877 - val_loss: 0.1019 - val_accuracy: 0.9747\n",
      "Epoch 8/20\n",
      "1500/1500 [==============================] - 31s 20ms/step - loss: 0.0360 - accuracy: 0.9894 - val_loss: 0.0923 - val_accuracy: 0.9769\n",
      "Epoch 9/20\n",
      "1500/1500 [==============================] - 29s 19ms/step - loss: 0.0289 - accuracy: 0.9912 - val_loss: 0.1002 - val_accuracy: 0.9744\n",
      "Epoch 10/20\n",
      "1500/1500 [==============================] - 29s 19ms/step - loss: 0.0218 - accuracy: 0.9938 - val_loss: 0.0962 - val_accuracy: 0.9765\n",
      "Epoch 11/20\n",
      "1500/1500 [==============================] - 31s 21ms/step - loss: 0.0227 - accuracy: 0.9933 - val_loss: 0.0900 - val_accuracy: 0.9780\n",
      "Epoch 12/20\n",
      "1500/1500 [==============================] - 28s 19ms/step - loss: 0.0174 - accuracy: 0.9949 - val_loss: 0.1126 - val_accuracy: 0.9746\n",
      "Epoch 13/20\n",
      "1500/1500 [==============================] - 33s 22ms/step - loss: 0.0170 - accuracy: 0.9952 - val_loss: 0.0989 - val_accuracy: 0.9791\n",
      "Epoch 14/20\n",
      "1500/1500 [==============================] - 30s 20ms/step - loss: 0.0146 - accuracy: 0.9958 - val_loss: 0.1061 - val_accuracy: 0.9773\n",
      "Epoch 15/20\n",
      "1500/1500 [==============================] - 31s 21ms/step - loss: 0.0120 - accuracy: 0.9963 - val_loss: 0.1053 - val_accuracy: 0.9794\n",
      "Epoch 16/20\n",
      "1500/1500 [==============================] - 30s 20ms/step - loss: 0.0118 - accuracy: 0.9966 - val_loss: 0.1093 - val_accuracy: 0.9777\n",
      "Epoch 17/20\n",
      "1500/1500 [==============================] - 31s 21ms/step - loss: 0.0103 - accuracy: 0.9967 - val_loss: 0.1035 - val_accuracy: 0.9810\n",
      "Epoch 18/20\n",
      "1500/1500 [==============================] - 30s 20ms/step - loss: 0.0084 - accuracy: 0.9974 - val_loss: 0.1180 - val_accuracy: 0.9788\n",
      "Epoch 19/20\n",
      "1500/1500 [==============================] - 32s 21ms/step - loss: 0.0114 - accuracy: 0.9965 - val_loss: 0.1031 - val_accuracy: 0.9806\n",
      "Epoch 20/20\n",
      "1500/1500 [==============================] - 30s 20ms/step - loss: 0.0090 - accuracy: 0.9974 - val_loss: 0.1094 - val_accuracy: 0.9795\n"
     ]
    },
    {
     "data": {
      "text/plain": [
       "<keras.src.callbacks.History at 0x20b1fbbe750>"
      ]
     },
     "execution_count": 132,
     "metadata": {},
     "output_type": "execute_result"
    }
   ],
   "source": [
    "model = Sequential([\n",
    "    Dense(1000,input_shape = X_train[0].flatten().shape, activation = 'sigmoid'),\n",
    "    Dense(500,activation='sigmoid'),\n",
    "    Dense(250,activation='sigmoid'),\n",
    "    Dense(125,activation='sigmoid'),\n",
    "    Dense(50,activation='sigmoid'),\n",
    "    Dense(10,activation='sigmoid')\n",
    "])\n",
    "\n",
    "\n",
    "model.compile(optimizer='adam', \n",
    "              loss='sparse_categorical_crossentropy',\n",
    "             metrics=['accuracy'])\n",
    "\n",
    "\n",
    "model.fit(X_train_reshaped,y_train,epochs=20,validation_split=0.2)"
   ]
  },
  {
   "cell_type": "code",
   "execution_count": 133,
   "id": "3da6a01c",
   "metadata": {},
   "outputs": [
    {
     "name": "stdout",
     "output_type": "stream",
     "text": [
      "1/1 [==============================] - 0s 103ms/step\n"
     ]
    }
   ],
   "source": [
    "test_prob = model.predict(np.expand_dims(final_array,0))"
   ]
  },
  {
   "cell_type": "code",
   "execution_count": 134,
   "id": "19669f1a",
   "metadata": {},
   "outputs": [
    {
     "data": {
      "text/plain": [
       "8"
      ]
     },
     "execution_count": 134,
     "metadata": {},
     "output_type": "execute_result"
    }
   ],
   "source": [
    "np.argmax(test_prob)"
   ]
  },
  {
   "cell_type": "code",
   "execution_count": 135,
   "id": "89bbc4ce",
   "metadata": {},
   "outputs": [
    {
     "data": {
      "text/plain": [
       "array([[7, 4, 9, 5, 0, 1, 6, 2, 3, 8]], dtype=int64)"
      ]
     },
     "execution_count": 135,
     "metadata": {},
     "output_type": "execute_result"
    }
   ],
   "source": [
    "np.argsort(test_prob)"
   ]
  },
  {
   "cell_type": "code",
   "execution_count": null,
   "id": "bf6d3afe",
   "metadata": {},
   "outputs": [],
   "source": []
  },
  {
   "cell_type": "code",
   "execution_count": null,
   "id": "1d698371",
   "metadata": {},
   "outputs": [],
   "source": []
  }
 ],
 "metadata": {
  "kernelspec": {
   "display_name": "Python 3 (ipykernel)",
   "language": "python",
   "name": "python3"
  },
  "language_info": {
   "codemirror_mode": {
    "name": "ipython",
    "version": 3
   },
   "file_extension": ".py",
   "mimetype": "text/x-python",
   "name": "python",
   "nbconvert_exporter": "python",
   "pygments_lexer": "ipython3",
   "version": "3.11.3"
  }
 },
 "nbformat": 4,
 "nbformat_minor": 5
}
