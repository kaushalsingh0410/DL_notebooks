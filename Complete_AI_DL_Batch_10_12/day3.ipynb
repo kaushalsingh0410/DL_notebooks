{
 "cells": [
  {
   "cell_type": "code",
   "execution_count": 2,
   "id": "097203de",
   "metadata": {},
   "outputs": [
    {
     "name": "stdout",
     "output_type": "stream",
     "text": [
      "done\n"
     ]
    }
   ],
   "source": [
    "import tensorflow as tf\n",
    "print('done')"
   ]
  },
  {
   "cell_type": "code",
   "execution_count": 3,
   "id": "9c6af66f",
   "metadata": {},
   "outputs": [
    {
     "name": "stdout",
     "output_type": "stream",
     "text": [
      "['AggregationMethod', 'Assert', 'CriticalSection', 'DType', 'DeviceSpec', 'GradientTape', 'Graph', 'IndexedSlices', 'IndexedSlicesSpec', 'Module', 'Operation', 'OptionalSpec', 'RaggedTensor', 'RaggedTensorSpec', 'RegisterGradient', 'SparseTensor', 'SparseTensorSpec', 'Tensor', 'TensorArray', 'TensorArraySpec', 'TensorShape', 'TensorSpec', 'TypeSpec', 'UnconnectedGradients', 'Variable', 'VariableAggregation', 'VariableSynchronization', '_API_MODULE', '_KerasLazyLoader', '_LazyLoader', '__all__', '__builtins__', '__cached__', '__compiler_version__', '__cxx11_abi_flag__', '__cxx_version__', '__doc__', '__file__', '__git_version__', '__internal__', '__loader__', '__monolithic_build__', '__name__', '__operators__', '__package__', '__path__', '__spec__', '__version__', '_api', '_compat', '_current_file_location', '_current_module', '_distutils', '_estimator_module', '_fi', '_initializers', '_inspect', '_kernel_dir', '_ll', '_logging', '_losses', '_major_api_version', '_metrics', '_module_dir', '_module_util', '_names_with_underscore', '_optimizers', '_os', '_plugin_dir', '_running_from_pip_package', '_s', '_site', '_site_packages_dirs', '_sys', '_tf2', '_tf_api_dir', '_tf_dir', '_tf_uses_legacy_keras', '_typing', 'abs', 'acos', 'acosh', 'add', 'add_n', 'approx_top_k', 'argmax', 'argmin', 'argsort', 'as_dtype', 'as_string', 'asin', 'asinh', 'assert_equal', 'assert_greater', 'assert_less', 'assert_rank', 'atan', 'atan2', 'atanh', 'audio', 'autodiff', 'autograph', 'batch_to_space', 'bfloat16', 'bitcast', 'bitwise', 'bool', 'boolean_mask', 'broadcast_dynamic_shape', 'broadcast_static_shape', 'broadcast_to', 'case', 'cast', 'clip_by_global_norm', 'clip_by_norm', 'clip_by_value', 'compat', 'complex', 'complex128', 'complex64', 'concat', 'cond', 'config', 'constant', 'constant_initializer', 'control_dependencies', 'conv', 'conv2d_backprop_filter_v2', 'conv2d_backprop_input_v2', 'convert_to_tensor', 'cos', 'cosh', 'cumsum', 'custom_gradient', 'data', 'debugging', 'device', 'distribute', 'divide', 'double', 'dtensor', 'dtypes', 'dynamic_partition', 'dynamic_stitch', 'edit_distance', 'eig', 'eigvals', 'einsum', 'ensure_shape', 'equal', 'errors', 'estimator', 'executing_eagerly', 'exp', 'expand_dims', 'experimental', 'extract_volume_patches', 'eye', 'feature_column', 'fftnd', 'fill', 'fingerprint', 'float16', 'float32', 'float64', 'floor', 'foldl', 'foldr', 'function', 'gather', 'gather_nd', 'get_current_name_scope', 'get_logger', 'get_static_value', 'grad_pass_through', 'gradients', 'graph_util', 'greater', 'greater_equal', 'group', 'guarantee_const', 'half', 'hessians', 'histogram_fixed_width', 'histogram_fixed_width_bins', 'identity', 'identity_n', 'ifftnd', 'image', 'import_graph_def', 'init_scope', 'initializers', 'inside_function', 'int16', 'int32', 'int64', 'int8', 'io', 'irfftnd', 'is_symbolic_tensor', 'is_tensor', 'keras', 'less', 'less_equal', 'linalg', 'linspace', 'lite', 'load_library', 'load_op_library', 'logical_and', 'logical_not', 'logical_or', 'lookup', 'losses', 'make_ndarray', 'make_tensor_proto', 'map_fn', 'math', 'matmul', 'matrix_square_root', 'maximum', 'meshgrid', 'metrics', 'minimum', 'mlir', 'multiply', 'name_scope', 'negative', 'nest', 'newaxis', 'nn', 'no_gradient', 'no_op', 'nondifferentiable_batch_function', 'norm', 'not_equal', 'numpy_function', 'one_hot', 'ones', 'ones_initializer', 'ones_like', 'optimizers', 'pad', 'parallel_stack', 'pow', 'print', 'profiler', 'py_function', 'qint16', 'qint32', 'qint8', 'quantization', 'queue', 'quint16', 'quint8', 'ragged', 'ragged_fill_empty_rows', 'ragged_fill_empty_rows_grad', 'random', 'random_index_shuffle', 'random_normal_initializer', 'random_uniform_initializer', 'range', 'rank', 'raw_ops', 'realdiv', 'recompute_grad', 'reduce_all', 'reduce_any', 'reduce_logsumexp', 'reduce_max', 'reduce_mean', 'reduce_min', 'reduce_prod', 'reduce_sum', 'register_tensor_conversion_function', 'repeat', 'required_space_to_batch_paddings', 'reshape', 'resource', 'reverse', 'reverse_sequence', 'rfftnd', 'roll', 'round', 'saturate_cast', 'saved_model', 'scalar_mul', 'scan', 'scatter_nd', 'searchsorted', 'security', 'sequence_mask', 'sets', 'shape', 'shape_n', 'sigmoid', 'sign', 'signal', 'sin', 'sinh', 'size', 'slice', 'sort', 'space_to_batch', 'space_to_batch_nd', 'sparse', 'split', 'sqrt', 'square', 'squeeze', 'stack', 'stop_gradient', 'strided_slice', 'string', 'strings', 'subtract', 'summary', 'switch_case', 'sysconfig', 'tan', 'tanh', 'tensor_scatter_nd_add', 'tensor_scatter_nd_max', 'tensor_scatter_nd_min', 'tensor_scatter_nd_sub', 'tensor_scatter_nd_update', 'tensordot', 'test', 'tile', 'timestamp', 'tools', 'tpu', 'train', 'transpose', 'truediv', 'truncatediv', 'truncatemod', 'tsl', 'tuple', 'type_spec_from_value', 'types', 'uint16', 'uint32', 'uint64', 'uint8', 'unique', 'unique_with_counts', 'unravel_index', 'unstack', 'variable_creator_scope', 'variant', 'vectorized_map', 'version', 'where', 'while_loop', 'xla', 'zeros', 'zeros_initializer', 'zeros_like']\n"
     ]
    }
   ],
   "source": [
    "print(dir(tf))"
   ]
  },
  {
   "cell_type": "code",
   "execution_count": null,
   "id": "75ac53e8",
   "metadata": {},
   "outputs": [],
   "source": []
  },
  {
   "cell_type": "code",
   "execution_count": 4,
   "id": "c9248c7b",
   "metadata": {},
   "outputs": [],
   "source": [
    "# tp"
   ]
  },
  {
   "cell_type": "code",
   "execution_count": 24,
   "id": "40e5142e",
   "metadata": {},
   "outputs": [],
   "source": [
    "# filpkart chatboat\n",
    "import time\n",
    "\n",
    "def chatboat():\n",
    "    '''\n",
    "    Chatboat features:\n",
    "    hi, where is my delivery item,my order status,unabale to connect db\n",
    "    wrong item recieved, payment issues, order not received, delivery boy feedback,\n",
    "    change delivery address, defected item, cancel order,contact customer care'''\n",
    "    \n",
    "    \n",
    "    msg = input('Chat here: ').lower()\n",
    "\n",
    "    \n",
    "    case_1 = ['hello','hello!!','hi!!','hi','hey','hey!!','hlw','helo','hlo']\n",
    "    \n",
    "    case_2 = ['where is my order','where is order??','my order?','order?',\n",
    "              'order not received', 'order status','where is my delivery item',\n",
    "             'order not received?','order status?','order time','order time?', 'order not received yet',\n",
    "             'delayed order']\n",
    "    \n",
    "    \n",
    "    case_3 = ['double payment','payment not success','paid twice','payment issues',\n",
    "              'amount deducted but not success','payment failed','payment']\n",
    "    \n",
    "    case_4 = ['item defected','item mismatched','item damaged','item broken','broken item',\n",
    "             'wrong item','defected item','damaged product','used product','expired product']\n",
    "\n",
    "    \n",
    "    case_5 = ['delivery boy was not good','behaviour issue','misbehave with customer','delivery boy feedback',\n",
    "             'asking for me to come','not delivering on given address','delivery boy not picking my call',\n",
    "              'delivery boy not receiving my call','rudely behaviour','delivery boy dennied open box delivery']\n",
    "    \n",
    "    case_6 = ['cancel order','cancel my order','cancel this order','please cancel my order',\n",
    "             'I don\\'t want my order anymore']\n",
    "    \n",
    "    case_7 = ['feedback','customer feedback','customer review','review by customer']\n",
    "    \n",
    "    \n",
    "\n",
    "    if msg in case_1:\n",
    "        print('Chatboat: Hi dear, Happy to see you, how may I assist you?')\n",
    "    \n",
    "    \n",
    "    \n",
    "    elif msg in case_2:\n",
    "        print('Chatboat: Happy to see you here!!, provide us your order id!!')\n",
    "        \n",
    "        \n",
    "    elif msg in case_3:\n",
    "        orderid = input('Enter order id: ')\n",
    "        \n",
    "        if len(orderid) == 10:\n",
    "            \n",
    "            print('''Chatboat: Let me check in my database\n",
    "            please wait''',end = '')\n",
    "            for i in range(5):\n",
    "                time.sleep(1)\n",
    "                print('.',end='')\n",
    "                \n",
    "             \n",
    "            print('''\\nWe have checked, amount has been dedcuted, we will update this soon,\n",
    "            you will receive the confirmation!!''')\n",
    "            \n",
    "            print('Thanks!!')\n",
    "            \n",
    "        else:\n",
    "            print('Incorrect order id\\nEnter again!!')\n",
    "        \n",
    "        \n",
    "        \n",
    "    elif msg in case_4:\n",
    "        print('''Sorry for this inconvenience caused, we will check this request, \n",
    "        if found such issue,it will be replaced or complete amount will be refunded''')\n",
    "        \n",
    "    \n",
    "    elif msg in case_5:\n",
    "        print('Sorry for this!!')\n",
    "        print('we are commited to serve our customer best way. after discussing this team, we have refunded your amount')\n",
    "        print('and this will not repeat again!!')\n",
    "        \n",
    "        \n",
    "    elif msg in case_6:\n",
    "        print('Want\\'s to cancel your order??')\n",
    "        \n",
    "        ans = input('Enter yes/no: ')\n",
    "        \n",
    "        if ans.lower() == 'yes':\n",
    "            print('Your Order has been canceled')\n",
    "        \n",
    "        elif ans.lower() == 'no':\n",
    "            print('Your order not cancelled and same on delivery as expected, check your order status??')\n",
    "            \n",
    "        else:\n",
    "            print('Select yes/no!!')\n",
    "        \n",
    "        \n",
    "    elif msg in case_7:\n",
    "        print('Thanks for sharing your feedback!!')\n",
    "        \n",
    "    else:\n",
    "        print('we did not understand try again!!')\n",
    "        "
   ]
  },
  {
   "cell_type": "code",
   "execution_count": null,
   "id": "d708e9cc",
   "metadata": {},
   "outputs": [],
   "source": []
  },
  {
   "cell_type": "code",
   "execution_count": null,
   "id": "d0099d95",
   "metadata": {},
   "outputs": [],
   "source": []
  },
  {
   "cell_type": "code",
   "execution_count": 26,
   "id": "b98918c0",
   "metadata": {},
   "outputs": [
    {
     "name": "stdout",
     "output_type": "stream",
     "text": [
      "Chat here: behaviour issue\n",
      "Sorry for this!!\n",
      "we are commited to serve our customer best way. after discussing this team, we have refunded your amount\n",
      "and this will not repeat again!!\n"
     ]
    }
   ],
   "source": [
    "chatboat()"
   ]
  },
  {
   "cell_type": "code",
   "execution_count": null,
   "id": "03dfbe02",
   "metadata": {},
   "outputs": [],
   "source": []
  }
 ],
 "metadata": {
  "kernelspec": {
   "display_name": "Python 3 (ipykernel)",
   "language": "python",
   "name": "python3"
  },
  "language_info": {
   "codemirror_mode": {
    "name": "ipython",
    "version": 3
   },
   "file_extension": ".py",
   "mimetype": "text/x-python",
   "name": "python",
   "nbconvert_exporter": "python",
   "pygments_lexer": "ipython3",
   "version": "3.11.3"
  }
 },
 "nbformat": 4,
 "nbformat_minor": 5
}
