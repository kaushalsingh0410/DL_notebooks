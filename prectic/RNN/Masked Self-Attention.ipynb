{
 "cells": [
  {
   "cell_type": "code",
   "execution_count": 1,
   "id": "b72e6ce8-3473-496c-964b-6c1b9bc286e6",
   "metadata": {},
   "outputs": [
    {
     "name": "stdout",
     "output_type": "stream",
     "text": [
      "Ritu\n"
     ]
    }
   ],
   "source": [
    "print('Ritu')"
   ]
  },
  {
   "cell_type": "markdown",
   "id": "749bb9fb-b2d2-472c-bb8e-f092705c48c8",
   "metadata": {},
   "source": [
    "# The Transformer decoder is autoregressive at inference(prediction) time and non-autoregressive at training time.\n",
    "Autoregressive models are a class of models used in time series analysis and machine learning. The term \"autoregressive\" implies that the model predicts future values in a sequence by regressing on its own past values."
   ]
  },
  {
   "cell_type": "markdown",
   "id": "da7969c5-21b4-4182-91df-6f240ac5bf3a",
   "metadata": {},
   "source": [
    "# Why Mask Self-Attention in Transformer Decoders?\n",
    "The purpose of masking in the decoder is to prevent the model from \"cheating\" during training and to maintain the autoregressive nature during inference. Specifically:\n",
    "\n",
    "1. <b>Training Time (Non-Autoregressive)</b>\n",
    "* The entire target sequence is available to the decoder during training.\n",
    "* Without masking, the decoder could see future tokens when predicting the next token.\n",
    "* This would make training unrealistic and lead to poor generalization because, during inference, the model must generate tokens one by one without future knowledge.\n",
    "2. <b>Inference Time (Autoregressive)</b>\n",
    "* The model generates tokens step by step:\n",
    "* First, it predicts the first token.\n",
    "* Then, it predicts the second token based on the first, and so on.\n",
    "* Masking ensures that the prediction at each step depends only on the previously generated tokens.\n",
    "\n",
    "<b>How Masking Works in Practice</b>\n",
    "* Masking uses a triangular matrix mask to block attention to future positions."
   ]
  },
  {
   "cell_type": "markdown",
   "id": "e50a6716-5007-4b6a-a131-11bc2a93c38b",
   "metadata": {},
   "source": [
    "# Cross-Attention"
   ]
  },
  {
   "attachments": {
    "3bfc1b4c-f924-43e1-99d0-acf7b24f0cb6.png": {
     "image/png": "[encoded data removed]"
    }
   },
   "cell_type": "markdown",
   "id": "f967b557-542d-4a49-adb3-65f1139762e9",
   "metadata": {},
   "source": [
    "## Attention Components\n",
    "* <b>Query (Q):</b> Comes from the decoder's current layer hidden states.\n",
    "* <b>Key (K) and Value (V):</b> Come from the encoder's output representations.\n",
    "\n",
    "  ![image.png](attachment:3bfc1b4c-f924-43e1-99d0-acf7b24f0cb6.png)"
   ]
  },
  {
   "cell_type": "code",
   "execution_count": null,
   "id": "9c84fd5a-fcba-4d8b-a6ff-c9d81ac742ac",
   "metadata": {},
   "outputs": [],
   "source": []
  }
 ],
 "metadata": {
  "kernelspec": {
   "display_name": "Python 3 (ipykernel)",
   "language": "python",
   "name": "python3"
  },
  "language_info": {
   "codemirror_mode": {
    "name": "ipython",
    "version": 3
   },
   "file_extension": ".py",
   "mimetype": "text/x-python",
   "name": "python",
   "nbconvert_exporter": "python",
   "pygments_lexer": "ipython3",
   "version": "3.12.0"
  }
 },
 "nbformat": 4,
 "nbformat_minor": 5
}
